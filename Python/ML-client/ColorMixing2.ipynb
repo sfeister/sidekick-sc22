{
 "cells": [
  {
   "cell_type": "markdown",
   "metadata": {},
   "source": [
    "# Color Mixing Demo with Physical System"
   ]
  },
  {
   "cell_type": "code",
   "execution_count": 1,
   "metadata": {},
   "outputs": [],
   "source": [
    "import matplotlib.pyplot as plt\n",
    "from matplotlib.colors import *\n",
    "from matplotlib.patches import *\n",
    "import numpy as np\n",
    "import ipywidgets as widgets\n",
    "import time\n",
    "from sklearn.linear_model import *\n",
    "from sklearn.svm import SVR\n",
    "from sklearn.neural_network import MLPRegressor\n",
    "from scipy.optimize import *\n",
    "from sklearn.ensemble import RandomForestRegressor\n",
    "import epics"
   ]
  },
  {
   "cell_type": "code",
   "execution_count": 2,
   "metadata": {},
   "outputs": [],
   "source": [
    "def ledparse(datastr):\n",
    "    \"\"\" Parse the LED brightness data string, which comes in the format '123441,251,12,201,12,156,' where it goes 'TRIG, LED0, LED1, LED2, LED3, LED4' \"\"\"\n",
    "    vals = np.array(datastr.split(','))[:-1]\n",
    "    trig = np.int64(vals[0])\n",
    "    brigs = np.array(np.uint8(vals[1:]))\n",
    "    return trig, brigs"
   ]
  },
  {
   "cell_type": "code",
   "execution_count": 3,
   "metadata": {},
   "outputs": [],
   "source": [
    "def camparse(datastr):\n",
    "    \"\"\" Parse the RGB-color data string, which comes in the format 'TRIG:123441,R:251,G:12,B:201' \"\"\"\n",
    "    vals = [elem.split(\":\")[1] for elem in datastr.split(',')]\n",
    "    trig = np.int64(vals[0])\n",
    "    rgb = np.array(np.uint8(vals[1:]))\n",
    "    return trig, rgb"
   ]
  },
  {
   "cell_type": "code",
   "execution_count": 4,
   "metadata": {},
   "outputs": [
    {
     "data": {
      "text/plain": [
       "(7814, array([ 62,  59, 154], dtype=uint8))"
      ]
     },
     "execution_count": 4,
     "metadata": {},
     "output_type": "execute_result"
    }
   ],
   "source": [
    "camparse(epics.caget(\"CAM:ROI1:DATA.VAL\"))"
   ]
  },
  {
   "cell_type": "code",
   "execution_count": 5,
   "metadata": {},
   "outputs": [
    {
     "data": {
      "text/plain": [
       "1"
      ]
     },
     "execution_count": 5,
     "metadata": {},
     "output_type": "execute_result"
    }
   ],
   "source": [
    "epics.caput('LEDS:CH{}:brig.VAL'.format(4), np.int(np.round(0.1*255)))\n",
    "np.int(np.round(0*255))\n",
    "epics.caput(\"PULSEGEN:reprate\", 5)"
   ]
  },
  {
   "cell_type": "code",
   "execution_count": 6,
   "metadata": {},
   "outputs": [],
   "source": [
    "class PhysicalSideKick():\n",
    "    \n",
    "     \n",
    "    def __init__(self,colors=[]):\n",
    "        \n",
    "        \n",
    "        if len(colors) == 0:\n",
    "            colors = np.random.rand(5,3)\n",
    "            self.color_count = 5\n",
    "        else:\n",
    "            self.color_count = len(colors)\n",
    "            \n",
    "        self.colors = np.array([rgb_to_hsv(x) for x in colors])\n",
    "            \n",
    "        self.intensity = [0.5] * self.color_count\n",
    "        \n",
    "        self.max_intensity = 1.5\n",
    "\n",
    "        \n",
    "    def setIntensity(self,i,f):\n",
    "        #print(\"Setting intensity!\")\n",
    "        self.intensity[i] = f\n",
    "        epics.caput('LEDS:CH{}:brig.VAL'.format(i), np.int(np.round(self.intensity[i]*255)))\n",
    "\n",
    "    def setIntensities(self,f):\n",
    "        if len(f) != self.color_count:\n",
    "            print(\"Formats do not match .. pick five intensities\")\n",
    "            return\n",
    "        \n",
    "        self.intensity = np.clip(f,0,1)\n",
    "        for i in range(5):\n",
    "            self.setIntensity(i, self.intensity[i])\n",
    "        \n",
    "    def getRGB(self,intensities=None):\n",
    "        \n",
    "        \n",
    "        if intensities is not None:\n",
    "            #print(\"Int: \",intensities)\n",
    "            self.setIntensities(intensities)\n",
    "            time.sleep(1)\n",
    "        \n",
    "        trig, rgb = camparse(epics.caget(\"CAM:ROI1:DATA.VAL\"))\n",
    "        color = np.float64(rgb)/255\n",
    "    \n",
    "        return color\n",
    "        \n",
    "class ModelState():\n",
    "    \n",
    "    def __init__(self,model,sidekick):\n",
    "        \n",
    "        self.model = model\n",
    "        \n",
    "        self.X = np.empty((0,sidekick.color_count))\n",
    "        self.Y = np.empty((0,3))\n",
    "        \n",
    "        self.box = np.array([np.zeros(sidekick.color_count),np.ones(sidekick.color_count)],dtype=np.float32)\n",
    "        \n",
    "    def reset(self):\n",
    "        \n",
    "        self.X = np.empty((0,self.X.shape[1]))\n",
    "        self.Y = np.empty((0,3))\n",
    "        \n",
    "        self.box = np.array([np.zeros(self.X.shape[1]),np.ones(self.X.shape[1])],dtype=np.float32)\n",
    "        \n",
    "        \n",
    "sidekick = PhysicalSideKick()\n"
   ]
  },
  {
   "cell_type": "code",
   "execution_count": 7,
   "metadata": {},
   "outputs": [
    {
     "data": {
      "text/plain": [
       "array([0.12156863, 0.4627451 , 0.95294118])"
      ]
     },
     "execution_count": 7,
     "metadata": {},
     "output_type": "execute_result"
    }
   ],
   "source": [
    "#sidekick.setIntensity(1,.9)\n",
    "sidekick.getRGB(np.array([1,1,1,1,1]))"
   ]
  },
  {
   "cell_type": "code",
   "execution_count": 8,
   "metadata": {},
   "outputs": [
    {
     "data": {
      "text/plain": [
       "array([0.12156863, 0.4627451 , 0.95294118])"
      ]
     },
     "execution_count": 8,
     "metadata": {},
     "output_type": "execute_result"
    }
   ],
   "source": [
    "sidekick.getRGB()"
   ]
  },
  {
   "cell_type": "code",
   "execution_count": 9,
   "metadata": {},
   "outputs": [],
   "source": [
    "def setState(sidekick,button):\n",
    "    rgb.value = np.array2string(sidekick.getRGB())\n",
    "    rgb.send_state(\"value\")\n",
    "    \n",
    "    button.style.button_color = to_hex(sidekick.getRGB())\n",
    "    \n",
    "def newTarget(target,button,state):\n",
    "    proposed_color = np.random.rand(3) * (150/255)\n",
    "    # Red max: 150\n",
    "    # Green max: 150\n",
    "    # Blue max: 150\n",
    "    epics.caput(\"LEDS:CH5:red\", proposed_color[0])\n",
    "    epics.caput(\"LEDS:CH5:green\", proposed_color[1])\n",
    "    epics.caput(\"LEDS:CH5:blue\", proposed_color[2])\n",
    "    time.sleep(1)\n",
    "    trig2, rgb2 = camparse(epics.caget(\"CAM:ROI2:DATA.VAL\"))\n",
    "    color = np.float64(rgb2)/255\n",
    "        \n",
    "    #color = np.array([0.07953693, 0.35833365, 0.55432933])\n",
    "    target.value = np.array2string(color)\n",
    "    target.send_state(\"value\")\n",
    "\n",
    "    button.style.button_color = to_hex(color)\n",
    "    \n",
    "    state.reset()"
   ]
  },
  {
   "cell_type": "code",
   "execution_count": 10,
   "metadata": {},
   "outputs": [],
   "source": [
    "def solve_color(sidekick, target, count=10, corners=True):\n",
    "    \n",
    "    print(\"Solving with {} samples\".format(count))\n",
    "    X = np.random.rand(count,5)\n",
    "    \n",
    "    if corners:\n",
    "        corners = np.zeros((32,5),dtype=np.float32)\n",
    "        for i in range(0,32):\n",
    "            corners[i,:] = np.array([i%2, (i//2)%2, (i//4)%2, (i//8)%2, (i//16)%2 ])\n",
    "    \n",
    "        X = np.concatenate((corners, X))\n",
    "\n",
    "    y = [sidekick.getRGB(x) for x in X]\n",
    "    \n",
    "    reg = Ridge(0.8)\n",
    "    #reg = MLPRegressor(hidden_layer_sizes=(3,5,5,3),activation='relu')\n",
    "\n",
    "    reg.fit(y,X)\n",
    "\n",
    "    return sidekick.getRGB(reg.predict(target.reshape(1, -1))[0])\n",
    "\n",
    "    \n",
    "def solve_color_callback(color_now, color_target, sidekick):\n",
    "    \n",
    "   \n",
    "    target = np.array(to_rgb(color_target.style.button_color))\n",
    "    \n",
    "    best_guess = solve_color(sidekick,target)\n",
    "    \n",
    "    setState(sidekick,color_now)\n",
    "    "
   ]
  },
  {
   "cell_type": "code",
   "execution_count": 11,
   "metadata": {},
   "outputs": [],
   "source": [
    "def adaptive_solve_callback(sidekick, target, state, color_now, color_guess,\n",
    "                            samples_per_round=10, candidate_count = 1000, window=20):\n",
    "    \n",
    "    # Define N as the number of inputs (number of outputs will always be 3)\n",
    "    N = sidekick.color_count\n",
    "    \n",
    "    #print(state.Y)\n",
    "    \n",
    "    # If we have current samples we assume we have a model \n",
    "    if state.X.shape[0] > 0:\n",
    "        \n",
    "        # Which means we can guess the next window to sample\n",
    " \n",
    "        # Create candidate samples in our current box\n",
    "        candidates = np.random.rand(candidate_count,N)\n",
    "        candidates = candidates * (state.box[1] - state.box[0]) + state.box[0]\n",
    "    \n",
    "        # Evaluate the candidates\n",
    "        predict = state.model.predict(candidates)\n",
    "        \n",
    "        # Compute the current loss as L2**2 between the predictions and the target\n",
    "        loss = np.sum((predict - target)**2,axis=-1)\n",
    "        \n",
    "        # And sort the candidates by ascending order\n",
    "        candidates = candidates[loss.argsort()]\n",
    "\n",
    "        # Define the new box as the bounding box of the \n",
    "        # window best samples \n",
    "        for i in range(0,N):\n",
    "            state.box[0,i] = candidates[0:window,i].min()\n",
    "            state.box[1,i] = candidates[0:window,i].max()\n",
    "\n",
    "            \n",
    "    \n",
    "    # Create the next round of ground truth samples\n",
    "    X = np.random.rand(samples_per_round,N)\n",
    "    # In the current box\n",
    "    X = X * (state.box[1] - state.box[0]) + state.box[0]\n",
    "\n",
    "    Y = np.zeros((samples_per_round,3),np.float32)\n",
    "    \n",
    "    # Evaluate the samples and show the user what colors we are trying\n",
    "    for i,x in enumerate(X):\n",
    "        Y[i,:] = sidekick.getRGB(x)\n",
    "        setState(sidekick,color_now)\n",
    "        time.sleep(0.2)\n",
    "        \n",
    "    # Add these samples to the current state\n",
    "    state.X = np.concatenate((state.X,X))\n",
    "    state.Y = np.concatenate((state.Y,Y))\n",
    "        \n",
    "    # Fit the regression with the first set of samples\n",
    "    state.model.fit(state.X,state.Y)\n",
    "\n",
    "    # Once we are done with refitting the regressor we use \n",
    "    # an optimization approach to define our best guess. To \n",
    "    # find a good starting position we use yet more candidates\n",
    "    # but in the current box \n",
    "    candidates = np.random.rand(candidate_count,N) # sidekick sliders\n",
    "    candidates = candidates * (state.box[1] - state.box[0]) + state.box[0]\n",
    "\n",
    "    predict = state.model.predict(candidates)\n",
    "    loss = np.sum((predict - target)**2,axis=-1)\n",
    "    candidates = candidates[loss.argsort()]\n",
    "    \n",
    "    # And we use the best candidate as starting point\n",
    "    optimum = fmin(lambda x: np.inner(state.model.predict(x.reshape(-1,N))[0]-target,\n",
    "                                      state.model.predict(x.reshape(-1,N))[0]-target),candidates[0])\n",
    "    \n",
    "    # Display the current best buess\n",
    "    setState(sidekick,color_now)\n",
    "    setState(sidekick,color_guess)\n",
    "\n",
    "    return optimum\n",
    "\n",
    "def adaptive_solve(sidekick, target, samples_per_round=10, rounds=2, candidate_count = 1000, window=20):\n",
    "    \n",
    "    # Define which regressor we will use\n",
    "    #reg = Ridge(0.8)\n",
    "    reg = RandomForestRegressor()\n",
    "    \n",
    "    # Define N as the number of inputs (number of outputs will always be 3)\n",
    "    N = sidekick.color_count\n",
    "    \n",
    "    # Create the first round of ground truth samples\n",
    "    X = np.random.rand(samples_per_round,N) \n",
    "    Y = np.array([sidekick.getRGB(x) for x in X])\n",
    "\n",
    "    # Fit the regression with the first set of samples\n",
    "    reg.fit(X,Y)\n",
    "\n",
    "    # Initialize our sampling box \n",
    "    box = np.array([np.zeros(N),np.ones(N)],dtype=np.float32)\n",
    "   \n",
    "    # Make sure the candidates variable exists\n",
    "    candidates = None\n",
    "    \n",
    "    # If we want to do any adaptive sampling\n",
    "    for round in range(0,rounds-1):\n",
    " \n",
    "        # Create more candidate samples in our current box\n",
    "        candidates = np.random.rand(candidate_count,N)\n",
    "        candidates = candidates * (box[1] - box[0]) + box[0]\n",
    "    \n",
    "        #for i in range(0,3):\n",
    "        #    candidates[:,i] = box[0,i] + candidates[:,i]/(box[1,i] - box[0,i])\n",
    "\n",
    "        # Evaluate the candidates\n",
    "        predict = reg.predict(candidates)\n",
    "        \n",
    "        # Compute the current loss as L2**2 between the predictions and the target\n",
    "        loss = np.sum((predict - target)**2,axis=-1)\n",
    "        \n",
    "        # And sort the candidates by ascending order\n",
    "        candidates = candidates[loss.argsort()]\n",
    "\n",
    "        # Define the new box as the bounding box of the \n",
    "        # window best samples \n",
    "        for i in range(0,N):\n",
    "            box[0,i] = candidates[0:window,i].min()\n",
    "            box[1,i] = candidates[0:window,i].max()\n",
    "    \n",
    "        # Create yet more random samples in this tighter box\n",
    "        candidates = np.random.rand(samples_per_round,N)\n",
    "        candidates = candidates * (box[1] - box[0]) + box[0]\n",
    "        \n",
    "        # Add these samples to the current inputs\n",
    "        X = np.concatenate((X,candidates))\n",
    "        \n",
    "        # And actually evaluate them \n",
    "        Y = np.concatenate((Y,np.array([sidekick.getRGB(x) for x in candidates])))\n",
    "            \n",
    "        # Finally, refit the regressor from all samples\n",
    "        reg.fit(X,Y)\n",
    "   \n",
    "    # Once we are done with refitting the regressor we use \n",
    "    # an optimization approach to define our best guess. To \n",
    "    # find a good starting position we use yet more candidates\n",
    "    # but in the current box \n",
    "    candidates = np.random.rand(candidate_count,N) # sidekick sliders\n",
    "    candidates = candidates * (box[1] - box[0]) + box[0]\n",
    "\n",
    "    predict = reg.predict(candidates)\n",
    "    loss = np.sum((predict - target)**2,axis=-1)\n",
    "    candidates = candidates[loss.argsort()]\n",
    "    \n",
    "    # And we use the best candidate as starting point\n",
    "    optimum = fmin(lambda x: np.inner(reg.predict(x.reshape(-1,N))[0]-target,\n",
    "                                          reg.predict(x.reshape(-1,N))[0]-target),candidates[0])\n",
    "#                      method='TNC',bounds=[(0,1)]*N)\n",
    "    \n",
    "    return optimum\n",
    "\n",
    "\n",
    "# Test code that might make no sense\n",
    "#sidekick = VirtualSideKick([[1,0,0],[0,1,0],[0,0,1],[0,0.5,0.5],[0.5,0.5,0]])\n",
    "#target = sidekick.getRGB(np.random.rand(3))\n",
    "#target = np.random.rand(3)\n",
    "\n",
    "#optimum = adaptive_solve(sidekick,target,rounds=3,samples_per_round=10)\n",
    "\n",
    "#print(target)\n",
    "#print(optimum)\n",
    "#print(sidekick.getRGB(optimum))\n",
    "\n",
    "#print(sidekick.getRGB(candidates[0]))\n",
    "#print(target)\n",
    "\n",
    "\n",
    "#hsv = reg.predict(target.reshape(1, -1))\n",
    "#rgb = hsv_to_rgb(hsv[0])\n",
    "\n",
    "#print(target)\n",
    "#print(truth)\n",
    "#print(hsv)\n",
    "#print(sidekick.getRGB(hsv[0]))\n",
    "#print(rgb)\n",
    "\n"
   ]
  },
  {
   "cell_type": "code",
   "execution_count": 12,
   "metadata": {
    "scrolled": false
   },
   "outputs": [
    {
     "data": {
      "application/vnd.jupyter.widget-view+json": {
       "model_id": "0060dca0879b4d2ba8ea247d0a1c692d",
       "version_major": 2,
       "version_minor": 0
      },
      "text/plain": [
       "VBox(children=(HBox(children=(FloatSlider(value=0.5, max=1.0, step=0.005), FloatSlider(value=0.5, max=1.0, ste…"
      ]
     },
     "metadata": {},
     "output_type": "display_data"
    },
    {
     "name": "stdout",
     "output_type": "stream",
     "text": [
      "Optimization terminated successfully.\n",
      "         Current function value: 0.318978\n",
      "         Iterations: 27\n",
      "         Function evaluations: 91\n"
     ]
    }
   ],
   "source": [
    "    \n",
    "#sidekick = PhysicalSideKick([[1,0,0],[0,1,0],[0,0,1],[0.5,0.5,0],[0,0.5,0.5]])\n",
    "sidekick = PhysicalSideKick()\n",
    "state = ModelState(RandomForestRegressor(),sidekick)\n",
    "\n",
    "#sidekick = VirtualSideKick()\n",
    "\n",
    "sliders = [widgets.FloatSlider(value=0.5,min=0,max=1,step=0.005,description='',disabled=False,\n",
    "                             continuous_update=True, orientation='horizontal') for i in range(0,5)]\n",
    "rgb = widgets.Text(value=np.array2string(sidekick.getRGB()), description='Current RGB', layout=widgets.Layout(width='40%', disabled=False))\n",
    "\n",
    "\n",
    "color = np.random.rand(3)\n",
    "target = widgets.Text(value=np.array2string(color), description='target RGB', layout=widgets.Layout(width='40%', disabled=False))\n",
    "\n",
    "button = widgets.Button(description=\"New Target\",disabled=False,\n",
    "                        layout=widgets.Layout(width='45%', height='30px'))\n",
    "   \n",
    "solve = widgets.Button(description=\"Solve\",disabled=False,\n",
    "                        layout=widgets.Layout(width='45%', height='30px'))\n",
    "\n",
    "color_now = widgets.Button(description=\"Current\",style=dict(button_color=to_hex(sidekick.getRGB())),\n",
    "                           layout=widgets.Layout(width='300px', height='300px',disabled=False))\n",
    "color_guess = widgets.Button(description=\"Best Guess\",style=dict(button_color=to_hex(sidekick.getRGB())),\n",
    "                            layout=widgets.Layout(width='300px', height='300px',disabled=False))\n",
    "color_target = widgets.Button(description=\"Target\",style=dict(button_color=to_hex(color)),\n",
    "                            layout=widgets.Layout(width='300px', height='300px',disabled=False))\n",
    "    \n",
    "    \n",
    "display(widgets.VBox([widgets.HBox(sliders),widgets.HBox([rgb,target]),\n",
    "                      widgets.HBox([button,solve]),\n",
    "                      widgets.HBox([color_now,color_guess, color_target])]))\n",
    "\n",
    "button.on_click(lambda x: newTarget(target,color_target,state))\n",
    "\n",
    "\n",
    "#solve.on_click(lambda x: solve_color_callback(color_now,color_target,sidekick))\n",
    "solve.on_click(lambda x: adaptive_solve_callback(sidekick, color, state, color_now,color_guess,\n",
    "                                                20,1000,100))\n",
    "\n",
    "for i in range(0,5):\n",
    "    sliders[i].observe(lambda x, arg=i: sidekick.setIntensity(arg,x['new']),\"value\")\n",
    "    sliders[i].observe(lambda x: setState(sidekick,color_now))\n",
    "    sliders[i].observe(lambda x: setState(sidekick,color_guess))\n",
    "    \n"
   ]
  },
  {
   "cell_type": "code",
   "execution_count": null,
   "metadata": {},
   "outputs": [],
   "source": []
  },
  {
   "cell_type": "code",
   "execution_count": null,
   "metadata": {},
   "outputs": [],
   "source": []
  }
 ],
 "metadata": {
  "kernelspec": {
   "display_name": "Python 3",
   "language": "python",
   "name": "python3"
  },
  "language_info": {
   "codemirror_mode": {
    "name": "ipython",
    "version": 3
   },
   "file_extension": ".py",
   "mimetype": "text/x-python",
   "name": "python",
   "nbconvert_exporter": "python",
   "pygments_lexer": "ipython3",
   "version": "3.8.5"
  }
 },
 "nbformat": 4,
 "nbformat_minor": 5
}
