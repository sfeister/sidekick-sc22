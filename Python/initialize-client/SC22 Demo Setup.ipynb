{
 "cells": [
  {
   "cell_type": "markdown",
   "id": "e2c2ce6f",
   "metadata": {},
   "source": [
    "# Initial Setup"
   ]
  },
  {
   "cell_type": "markdown",
   "id": "a512063f",
   "metadata": {},
   "source": [
    "## Import Modules"
   ]
  },
  {
   "cell_type": "code",
   "execution_count": 1,
   "id": "d3343535",
   "metadata": {},
   "outputs": [],
   "source": [
    "import numpy as np\n",
    "import epics # 'epics' is part of pyepics\n",
    "from epics import PV\n",
    "from time import sleep\n",
    "import matplotlib.pyplot as plt"
   ]
  },
  {
   "cell_type": "markdown",
   "id": "6aeb2546",
   "metadata": {},
   "source": [
    "## Check Connection to Variables is Correct"
   ]
  },
  {
   "cell_type": "code",
   "execution_count": 3,
   "id": "6c7e9024",
   "metadata": {},
   "outputs": [
    {
     "name": "stdout",
     "output_type": "stream",
     "text": [
      "DolphinDAQ,SC22 Neo-LEDs,#00,20221109\n",
      "DolphinDAQ,SC22 Knobs,#00,20221109\n",
      "DolphinDAQ,SC22 PulseGen,#00,20221109\n"
     ]
    }
   ],
   "source": [
    "print(epics.caget(\"LEDS:info\"))\n",
    "print(epics.caget(\"KNOBS:info\"))\n",
    "print(epics.caget(\"PULSEGEN:info\"))"
   ]
  },
  {
   "cell_type": "markdown",
   "id": "b6e6e7ba",
   "metadata": {},
   "source": [
    "## Set some nice initial settings"
   ]
  },
  {
   "cell_type": "code",
   "execution_count": 41,
   "id": "e104eeea",
   "metadata": {},
   "outputs": [
    {
     "data": {
      "text/plain": [
       "1"
      ]
     },
     "execution_count": 41,
     "metadata": {},
     "output_type": "execute_result"
    }
   ],
   "source": [
    "# Set LED brightnesses to zero and durations to 80 ms\n",
    "NLEDS = 5 # our SC22 sidekick system has five LEDs\n",
    "for i in range(NLEDS): # for each of our five LEDs\n",
    "    epics.caput('LEDS:CH{}:brig.VAL'.format(i), 255) # Set LED brightness to 255 out of 255 (max brightness)\n",
    "    epics.caput('LEDS:CH{}:dur.VAL'.format(i), 50.0e3) # Set LED 'flash on' duration to 50 ms\n",
    "\n",
    "# Zero out all trigger delays\n",
    "NCHANS = 6\n",
    "for i in range(NCHANS): # for each of our six pulse delay channels\n",
    "    epics.caput(\"PULSEGEN:CH{}:delay\".format(i), 0.0) # Set trigger delay to 0 ms\n",
    "\n",
    "# Set rep rate to 10 Hz\n",
    "epics.caput(\"PULSEGEN:reprate\", 2) # Set systemwide repetition rate to 2 Hz"
   ]
  },
  {
   "cell_type": "markdown",
   "id": "dba8706d",
   "metadata": {},
   "source": [
    "## Alignment mode (fast flashing)"
   ]
  },
  {
   "cell_type": "code",
   "execution_count": 26,
   "id": "a998b45a",
   "metadata": {},
   "outputs": [
    {
     "data": {
      "text/plain": [
       "1"
      ]
     },
     "execution_count": 26,
     "metadata": {},
     "output_type": "execute_result"
    }
   ],
   "source": [
    "for i in range(NLEDS): # for each of our five LEDs\n",
    "    epics.caput('LEDS:CH{}:dur.VAL'.format(i), 10.0e3) # Set LED 'flash on' duration to specified ms\n",
    "\n",
    "# Set rep rate to 10 Hz\n",
    "epics.caput(\"PULSEGEN:reprate\", 50) # Set systemwide repetition rate to specified Hz"
   ]
  },
  {
   "cell_type": "markdown",
   "id": "6648cf1b",
   "metadata": {},
   "source": []
  },
  {
   "cell_type": "code",
   "execution_count": 40,
   "id": "995c8c44",
   "metadata": {},
   "outputs": [
    {
     "ename": "KeyboardInterrupt",
     "evalue": "",
     "output_type": "error",
     "traceback": [
      "\u001b[1;31m---------------------------------------------------------------------------\u001b[0m",
      "\u001b[1;31mKeyboardInterrupt\u001b[0m                         Traceback (most recent call last)",
      "\u001b[1;32m<ipython-input-40-a956d7d2bbe8>\u001b[0m in \u001b[0;36m<module>\u001b[1;34m\u001b[0m\n\u001b[0;32m      3\u001b[0m         \u001b[0mknobcount\u001b[0m \u001b[1;33m=\u001b[0m \u001b[0mepics\u001b[0m\u001b[1;33m.\u001b[0m\u001b[0mcaget\u001b[0m\u001b[1;33m(\u001b[0m\u001b[1;34m'KNOBS:ROT{}:count.VAL'\u001b[0m\u001b[1;33m.\u001b[0m\u001b[0mformat\u001b[0m\u001b[1;33m(\u001b[0m\u001b[0mi\u001b[0m\u001b[1;33m)\u001b[0m\u001b[1;33m)\u001b[0m\u001b[1;33m\u001b[0m\u001b[1;33m\u001b[0m\u001b[0m\n\u001b[0;32m      4\u001b[0m         \u001b[0mepics\u001b[0m\u001b[1;33m.\u001b[0m\u001b[0mcaput\u001b[0m\u001b[1;33m(\u001b[0m\u001b[1;34m'LEDS:CH{}:brig.VAL'\u001b[0m\u001b[1;33m.\u001b[0m\u001b[0mformat\u001b[0m\u001b[1;33m(\u001b[0m\u001b[0mi\u001b[0m\u001b[1;33m)\u001b[0m\u001b[1;33m,\u001b[0m \u001b[0mknobcount\u001b[0m\u001b[1;33m*\u001b[0m\u001b[1;36m20\u001b[0m\u001b[1;33m)\u001b[0m\u001b[1;33m\u001b[0m\u001b[1;33m\u001b[0m\u001b[0m\n\u001b[1;32m----> 5\u001b[1;33m     \u001b[0msleep\u001b[0m\u001b[1;33m(\u001b[0m\u001b[1;36m0.25\u001b[0m\u001b[1;33m)\u001b[0m\u001b[1;33m\u001b[0m\u001b[1;33m\u001b[0m\u001b[0m\n\u001b[0m",
      "\u001b[1;31mKeyboardInterrupt\u001b[0m: "
     ]
    }
   ],
   "source": [
    "while True:\n",
    "    for i in range(NLEDS):\n",
    "        knobcount = epics.caget('KNOBS:ROT{}:count.VAL'.format(i))\n",
    "        epics.caput('LEDS:CH{}:brig.VAL'.format(i), knobcount*20)\n",
    "    sleep(0.25)"
   ]
  },
  {
   "cell_type": "code",
   "execution_count": null,
   "id": "fa6d2de5",
   "metadata": {},
   "outputs": [],
   "source": []
  },
  {
   "cell_type": "code",
   "execution_count": null,
   "id": "3f337b5f",
   "metadata": {},
   "outputs": [],
   "source": []
  }
 ],
 "metadata": {
  "kernelspec": {
   "display_name": "Python 3",
   "language": "python",
   "name": "python3"
  },
  "language_info": {
   "codemirror_mode": {
    "name": "ipython",
    "version": 3
   },
   "file_extension": ".py",
   "mimetype": "text/x-python",
   "name": "python",
   "nbconvert_exporter": "python",
   "pygments_lexer": "ipython3",
   "version": "3.9.6"
  }
 },
 "nbformat": 4,
 "nbformat_minor": 5
}
