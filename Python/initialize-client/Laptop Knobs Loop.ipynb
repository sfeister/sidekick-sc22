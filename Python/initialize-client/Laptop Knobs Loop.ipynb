{
 "cells": [
  {
   "cell_type": "code",
   "execution_count": 5,
   "id": "d3343535",
   "metadata": {},
   "outputs": [],
   "source": [
    "import numpy as np\n",
    "import epics # 'epics' is part of pyepics\n",
    "from epics import PV\n",
    "from time import sleep\n",
    "import matplotlib.pyplot as plt\n",
    "\n",
    "NLEDS = 5"
   ]
  },
  {
   "cell_type": "code",
   "execution_count": null,
   "id": "eb21d384",
   "metadata": {},
   "outputs": [],
   "source": []
  },
  {
   "cell_type": "code",
   "execution_count": 8,
   "id": "32b96f45",
   "metadata": {},
   "outputs": [
    {
     "ename": "KeyboardInterrupt",
     "evalue": "",
     "output_type": "error",
     "traceback": [
      "\u001b[1;31m---------------------------------------------------------------------------\u001b[0m",
      "\u001b[1;31mKeyboardInterrupt\u001b[0m                         Traceback (most recent call last)",
      "\u001b[1;32m<ipython-input-8-a956d7d2bbe8>\u001b[0m in \u001b[0;36m<module>\u001b[1;34m\u001b[0m\n\u001b[0;32m      1\u001b[0m \u001b[1;32mwhile\u001b[0m \u001b[1;32mTrue\u001b[0m\u001b[1;33m:\u001b[0m\u001b[1;33m\u001b[0m\u001b[1;33m\u001b[0m\u001b[0m\n\u001b[0;32m      2\u001b[0m     \u001b[1;32mfor\u001b[0m \u001b[0mi\u001b[0m \u001b[1;32min\u001b[0m \u001b[0mrange\u001b[0m\u001b[1;33m(\u001b[0m\u001b[0mNLEDS\u001b[0m\u001b[1;33m)\u001b[0m\u001b[1;33m:\u001b[0m\u001b[1;33m\u001b[0m\u001b[1;33m\u001b[0m\u001b[0m\n\u001b[1;32m----> 3\u001b[1;33m         \u001b[0mknobcount\u001b[0m \u001b[1;33m=\u001b[0m \u001b[0mepics\u001b[0m\u001b[1;33m.\u001b[0m\u001b[0mcaget\u001b[0m\u001b[1;33m(\u001b[0m\u001b[1;34m'KNOBS:ROT{}:count.VAL'\u001b[0m\u001b[1;33m.\u001b[0m\u001b[0mformat\u001b[0m\u001b[1;33m(\u001b[0m\u001b[0mi\u001b[0m\u001b[1;33m)\u001b[0m\u001b[1;33m)\u001b[0m\u001b[1;33m\u001b[0m\u001b[1;33m\u001b[0m\u001b[0m\n\u001b[0m\u001b[0;32m      4\u001b[0m         \u001b[0mepics\u001b[0m\u001b[1;33m.\u001b[0m\u001b[0mcaput\u001b[0m\u001b[1;33m(\u001b[0m\u001b[1;34m'LEDS:CH{}:brig.VAL'\u001b[0m\u001b[1;33m.\u001b[0m\u001b[0mformat\u001b[0m\u001b[1;33m(\u001b[0m\u001b[0mi\u001b[0m\u001b[1;33m)\u001b[0m\u001b[1;33m,\u001b[0m \u001b[0mknobcount\u001b[0m\u001b[1;33m*\u001b[0m\u001b[1;36m20\u001b[0m\u001b[1;33m)\u001b[0m\u001b[1;33m\u001b[0m\u001b[1;33m\u001b[0m\u001b[0m\n\u001b[0;32m      5\u001b[0m     \u001b[0msleep\u001b[0m\u001b[1;33m(\u001b[0m\u001b[1;36m0.25\u001b[0m\u001b[1;33m)\u001b[0m\u001b[1;33m\u001b[0m\u001b[1;33m\u001b[0m\u001b[0m\n",
      "\u001b[1;32m~\\anaconda3\\envs\\epics\\lib\\site-packages\\epics\\__init__.py\u001b[0m in \u001b[0;36mcaget\u001b[1;34m(pvname, as_string, count, as_numpy, use_monitor, timeout, connection_timeout)\u001b[0m\n\u001b[0;32m    167\u001b[0m                          \u001b[0mas_string\u001b[0m\u001b[1;33m=\u001b[0m\u001b[0mas_string\u001b[0m\u001b[1;33m,\u001b[0m\u001b[1;33m\u001b[0m\u001b[1;33m\u001b[0m\u001b[0m\n\u001b[0;32m    168\u001b[0m                          as_numpy=as_numpy)\n\u001b[1;32m--> 169\u001b[1;33m         \u001b[0mpoll\u001b[0m\u001b[1;33m(\u001b[0m\u001b[1;33m)\u001b[0m\u001b[1;33m\u001b[0m\u001b[1;33m\u001b[0m\u001b[0m\n\u001b[0m\u001b[0;32m    170\u001b[0m         \u001b[1;32mreturn\u001b[0m \u001b[0mval\u001b[0m\u001b[1;33m\u001b[0m\u001b[1;33m\u001b[0m\u001b[0m\n\u001b[0;32m    171\u001b[0m \u001b[1;33m\u001b[0m\u001b[0m\n",
      "\u001b[1;32m~\\anaconda3\\envs\\epics\\lib\\site-packages\\epics\\ca.py\u001b[0m in \u001b[0;36mwrapper\u001b[1;34m(*args, **kwds)\u001b[0m\n\u001b[0;32m    545\u001b[0m         \u001b[1;32melif\u001b[0m \u001b[0mlibca\u001b[0m \u001b[1;32mis\u001b[0m \u001b[0m_LIBCA_FINALIZED\u001b[0m\u001b[1;33m:\u001b[0m\u001b[1;33m\u001b[0m\u001b[1;33m\u001b[0m\u001b[0m\n\u001b[0;32m    546\u001b[0m             \u001b[1;32mreturn\u001b[0m  \u001b[1;31m# Avoid raising exceptions when Python shutting down\u001b[0m\u001b[1;33m\u001b[0m\u001b[1;33m\u001b[0m\u001b[0m\n\u001b[1;32m--> 547\u001b[1;33m         \u001b[1;32mreturn\u001b[0m \u001b[0mfcn\u001b[0m\u001b[1;33m(\u001b[0m\u001b[1;33m*\u001b[0m\u001b[0margs\u001b[0m\u001b[1;33m,\u001b[0m \u001b[1;33m**\u001b[0m\u001b[0mkwds\u001b[0m\u001b[1;33m)\u001b[0m\u001b[1;33m\u001b[0m\u001b[1;33m\u001b[0m\u001b[0m\n\u001b[0m\u001b[0;32m    548\u001b[0m     \u001b[1;32mreturn\u001b[0m \u001b[0mwrapper\u001b[0m\u001b[1;33m\u001b[0m\u001b[1;33m\u001b[0m\u001b[0m\n\u001b[0;32m    549\u001b[0m \u001b[1;33m\u001b[0m\u001b[0m\n",
      "\u001b[1;32m~\\anaconda3\\envs\\epics\\lib\\site-packages\\epics\\ca.py\u001b[0m in \u001b[0;36mpoll\u001b[1;34m(evt, iot)\u001b[0m\n\u001b[0;32m    921\u001b[0m \u001b[1;33m\u001b[0m\u001b[0m\n\u001b[0;32m    922\u001b[0m     \"\"\"\n\u001b[1;32m--> 923\u001b[1;33m     \u001b[0mpend_event\u001b[0m\u001b[1;33m(\u001b[0m\u001b[0mevt\u001b[0m\u001b[1;33m)\u001b[0m\u001b[1;33m\u001b[0m\u001b[1;33m\u001b[0m\u001b[0m\n\u001b[0m\u001b[0;32m    924\u001b[0m     \u001b[1;32mreturn\u001b[0m \u001b[0mpend_io\u001b[0m\u001b[1;33m(\u001b[0m\u001b[0miot\u001b[0m\u001b[1;33m)\u001b[0m\u001b[1;33m\u001b[0m\u001b[1;33m\u001b[0m\u001b[0m\n\u001b[0;32m    925\u001b[0m \u001b[1;33m\u001b[0m\u001b[0m\n",
      "\u001b[1;32m~\\anaconda3\\envs\\epics\\lib\\site-packages\\epics\\ca.py\u001b[0m in \u001b[0;36mpend_event\u001b[1;34m(timeout)\u001b[0m\n\u001b[0;32m    908\u001b[0m \u001b[1;32mdef\u001b[0m \u001b[0mpend_event\u001b[0m\u001b[1;33m(\u001b[0m\u001b[0mtimeout\u001b[0m\u001b[1;33m=\u001b[0m\u001b[1;36m1.e-5\u001b[0m\u001b[1;33m)\u001b[0m\u001b[1;33m:\u001b[0m\u001b[1;33m\u001b[0m\u001b[1;33m\u001b[0m\u001b[0m\n\u001b[0;32m    909\u001b[0m     \u001b[1;34m\"\"\"polls CA for events \"\"\"\u001b[0m\u001b[1;33m\u001b[0m\u001b[1;33m\u001b[0m\u001b[0m\n\u001b[1;32m--> 910\u001b[1;33m     \u001b[0mret\u001b[0m \u001b[1;33m=\u001b[0m \u001b[0mlibca\u001b[0m\u001b[1;33m.\u001b[0m\u001b[0mca_pend_event\u001b[0m\u001b[1;33m(\u001b[0m\u001b[0mtimeout\u001b[0m\u001b[1;33m)\u001b[0m\u001b[1;33m\u001b[0m\u001b[1;33m\u001b[0m\u001b[0m\n\u001b[0m\u001b[0;32m    911\u001b[0m     \u001b[1;32mtry\u001b[0m\u001b[1;33m:\u001b[0m\u001b[1;33m\u001b[0m\u001b[1;33m\u001b[0m\u001b[0m\n\u001b[0;32m    912\u001b[0m         \u001b[1;32mreturn\u001b[0m \u001b[0mPySEVCHK\u001b[0m\u001b[1;33m(\u001b[0m \u001b[1;34m'pend_event'\u001b[0m\u001b[1;33m,\u001b[0m \u001b[0mret\u001b[0m\u001b[1;33m,\u001b[0m  \u001b[0mdbr\u001b[0m\u001b[1;33m.\u001b[0m\u001b[0mECA_TIMEOUT\u001b[0m\u001b[1;33m)\u001b[0m\u001b[1;33m\u001b[0m\u001b[1;33m\u001b[0m\u001b[0m\n",
      "\u001b[1;31mKeyboardInterrupt\u001b[0m: "
     ]
    }
   ],
   "source": [
    "while True:\n",
    "    for i in range(NLEDS):\n",
    "        knobcount = epics.caget('KNOBS:ROT{}:count.VAL'.format(i))\n",
    "        epics.caput('LEDS:CH{}:brig.VAL'.format(i), knobcount*20)\n",
    "    sleep(0.25)"
   ]
  },
  {
   "cell_type": "code",
   "execution_count": 9,
   "id": "5b46574a",
   "metadata": {},
   "outputs": [
    {
     "name": "stdout",
     "output_type": "stream",
     "text": [
      "255\n",
      "255\n",
      "255\n",
      "0\n",
      "255\n"
     ]
    }
   ],
   "source": [
    "for i in range(NLEDS):\n",
    "    brig = epics.caget('LEDS:CH{}:brig.VAL'.format(i))\n",
    "    print(brig)"
   ]
  },
  {
   "cell_type": "code",
   "execution_count": 11,
   "id": "fcb9ef4a",
   "metadata": {},
   "outputs": [
    {
     "name": "stdout",
     "output_type": "stream",
     "text": [
      "18\n",
      "18\n",
      "18\n",
      "0\n",
      "20\n"
     ]
    }
   ],
   "source": [
    "for i in range(NLEDS):\n",
    "    knobcount = epics.caget('KNOBS:ROT{}:count.VAL'.format(i))\n",
    "    print(knobcount)"
   ]
  },
  {
   "cell_type": "code",
   "execution_count": 13,
   "id": "0c597b32",
   "metadata": {},
   "outputs": [
    {
     "data": {
      "text/plain": [
       "'DolphinDAQ,SC22 Neo-LEDs,#00,20221114'"
      ]
     },
     "execution_count": 13,
     "metadata": {},
     "output_type": "execute_result"
    }
   ],
   "source": [
    "epics.caget(\"LEDS:info\")"
   ]
  },
  {
   "cell_type": "code",
   "execution_count": 16,
   "id": "aff5890e",
   "metadata": {},
   "outputs": [
    {
     "data": {
      "text/plain": [
       "'TRIG: 417, L0: 255, L1: 255, L2: 255, L'"
      ]
     },
     "execution_count": 16,
     "metadata": {},
     "output_type": "execute_result"
    }
   ],
   "source": [
    "epics.caget(\"LEDS:data\")"
   ]
  },
  {
   "cell_type": "code",
   "execution_count": null,
   "id": "5b135cba",
   "metadata": {},
   "outputs": [],
   "source": []
  }
 ],
 "metadata": {
  "kernelspec": {
   "display_name": "Python 3",
   "language": "python",
   "name": "python3"
  },
  "language_info": {
   "codemirror_mode": {
    "name": "ipython",
    "version": 3
   },
   "file_extension": ".py",
   "mimetype": "text/x-python",
   "name": "python",
   "nbconvert_exporter": "python",
   "pygments_lexer": "ipython3",
   "version": "3.9.6"
  }
 },
 "nbformat": 4,
 "nbformat_minor": 5
}
