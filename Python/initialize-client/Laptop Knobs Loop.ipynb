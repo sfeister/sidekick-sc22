{
 "cells": [
  {
   "cell_type": "code",
   "execution_count": 3,
   "id": "d3343535",
   "metadata": {},
   "outputs": [],
   "source": [
    "import numpy as np\n",
    "import epics # 'epics' is part of pyepics\n",
    "from epics import PV\n",
    "from time import sleep\n",
    "import matplotlib.pyplot as plt\n",
    "\n",
    "NLEDS = 5"
   ]
  },
  {
   "cell_type": "code",
   "execution_count": null,
   "id": "32b96f45",
   "metadata": {},
   "outputs": [],
   "source": [
    "while True:\n",
    "    for i in range(NLEDS):\n",
    "        knobcount = epics.caget('KNOBS:ROT{}:count.VAL'.format(i))\n",
    "        epics.caput('LEDS:CH{}:brig.VAL'.format(i), knobcount*20)\n",
    "    sleep(0.25)"
   ]
  },
  {
   "cell_type": "code",
   "execution_count": null,
   "id": "55bd2c38",
   "metadata": {},
   "outputs": [],
   "source": []
  }
 ],
 "metadata": {
  "kernelspec": {
   "display_name": "Python 3 (ipykernel)",
   "language": "python",
   "name": "python3"
  },
  "language_info": {
   "codemirror_mode": {
    "name": "ipython",
    "version": 3
   },
   "file_extension": ".py",
   "mimetype": "text/x-python",
   "name": "python",
   "nbconvert_exporter": "python",
   "pygments_lexer": "ipython3",
   "version": "3.9.7"
  }
 },
 "nbformat": 4,
 "nbformat_minor": 5
}
