{
 "cells": [
  {
   "cell_type": "code",
   "execution_count": 11,
   "id": "51f90eb6",
   "metadata": {},
   "outputs": [],
   "source": [
    "import epics\n",
    "import numpy as np\n",
    "import time\n",
    "def ledparse(datastr):\n",
    "    \"\"\" Parse the LED brightness data string, which comes in the format '123441,251,12,201,12,156,' where it goes 'TRIG, LED0, LED1, LED2, LED3, LED4' \"\"\"\n",
    "    vals = np.array(datastr.split(','))[:-1]\n",
    "    trig = np.int64(vals[0])\n",
    "    brigs = np.array(np.uint8(vals[1:]))\n",
    "    return trig, brigs\n",
    "\n",
    "def camparse(datastr):\n",
    "    \"\"\" Parse the RGB-color data string, which comes in the format 'TRIG:123441,R:251,G:12,B:201' \"\"\"\n",
    "    vals = [elem.split(\":\")[1] for elem in datastr.split(',')]\n",
    "    trig = np.int64(vals[0])\n",
    "    rgb = np.array(np.uint8(vals[1:]))\n",
    "    return trig, rgb"
   ]
  },
  {
   "cell_type": "markdown",
   "id": "a58c152b",
   "metadata": {},
   "source": [
    "## Turn off all pulses"
   ]
  },
  {
   "cell_type": "code",
   "execution_count": 18,
   "id": "d48d0063",
   "metadata": {},
   "outputs": [
    {
     "name": "stdout",
     "output_type": "stream",
     "text": [
      "[255 255 255 255 255]\n"
     ]
    }
   ],
   "source": [
    "_, brigs = ledparse(epics.caget(\"LEDS:data\"))\n",
    "print(brigs)\n"
   ]
  },
  {
   "cell_type": "code",
   "execution_count": 15,
   "id": "753edbf0",
   "metadata": {},
   "outputs": [
    {
     "data": {
      "text/plain": [
       "1"
      ]
     },
     "execution_count": 15,
     "metadata": {},
     "output_type": "execute_result"
    }
   ],
   "source": [
    "epics.caput(\"CAM:ROI1:BG:red\", 0)\n",
    "epics.caput(\"CAM:ROI1:BG:green\", 0)\n",
    "epics.caput(\"CAM:ROI1:BG:blue\", 0)\n",
    "\n",
    "epics.caput(\"CAM:ROI2:BG:red\", 0)\n",
    "epics.caput(\"CAM:ROI2:BG:green\", 0)\n",
    "epics.caput(\"CAM:ROI2:BG:blue\", 0)\n",
    "\n",
    "time.sleep(3)\n",
    "\n",
    "_, rgb1 = camparse(epics.caget(\"CAM:ROI1:DATA.VAL\"))\n",
    "_, rgb2 = camparse(epics.caget(\"CAM:ROI2:DATA.VAL\"))\n",
    "\n",
    "epics.caput(\"CAM:ROI1:BG:red\", rgb1[0])\n",
    "epics.caput(\"CAM:ROI1:BG:green\", rgb1[1])\n",
    "epics.caput(\"CAM:ROI1:BG:blue\", rgb1[2])\n",
    "\n",
    "epics.caput(\"CAM:ROI2:BG:red\", rgb2[0])\n",
    "epics.caput(\"CAM:ROI2:BG:green\", rgb2[1])\n",
    "epics.caput(\"CAM:ROI2:BG:blue\", rgb2[2])"
   ]
  },
  {
   "cell_type": "code",
   "execution_count": 5,
   "id": "7831c968",
   "metadata": {},
   "outputs": [
    {
     "data": {
      "text/plain": [
       "array([43, 42, 34], dtype=uint8)"
      ]
     },
     "execution_count": 5,
     "metadata": {},
     "output_type": "execute_result"
    }
   ],
   "source": []
  },
  {
   "cell_type": "code",
   "execution_count": null,
   "id": "23ab3922",
   "metadata": {},
   "outputs": [],
   "source": []
  }
 ],
 "metadata": {
  "kernelspec": {
   "display_name": "Python 3",
   "language": "python",
   "name": "python3"
  },
  "language_info": {
   "codemirror_mode": {
    "name": "ipython",
    "version": 3
   },
   "file_extension": ".py",
   "mimetype": "text/x-python",
   "name": "python",
   "nbconvert_exporter": "python",
   "pygments_lexer": "ipython3",
   "version": "3.9.6"
  }
 },
 "nbformat": 4,
 "nbformat_minor": 5
}
