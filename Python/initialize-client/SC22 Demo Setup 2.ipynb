{
 "cells": [
  {
   "cell_type": "markdown",
   "id": "e2c2ce6f",
   "metadata": {},
   "source": [
    "# Initial Setup"
   ]
  },
  {
   "cell_type": "markdown",
   "id": "a512063f",
   "metadata": {},
   "source": [
    "## Import Modules"
   ]
  },
  {
   "cell_type": "code",
   "execution_count": 1,
   "id": "d3343535",
   "metadata": {},
   "outputs": [],
   "source": [
    "import numpy as np\n",
    "import epics # 'epics' is part of pyepics\n",
    "from epics import PV\n",
    "from time import sleep\n",
    "import matplotlib.pyplot as plt"
   ]
  },
  {
   "cell_type": "markdown",
   "id": "6aeb2546",
   "metadata": {},
   "source": [
    "## Check Connection to Variables is Correct"
   ]
  },
  {
   "cell_type": "code",
   "execution_count": 2,
   "id": "6c7e9024",
   "metadata": {},
   "outputs": [
    {
     "name": "stdout",
     "output_type": "stream",
     "text": [
      "DolphinDAQ,SC22 PulseGen,#00,20230323\n",
      "DolphinDAQ,SC22 Neo-LEDs,#00,20230323\n",
      "DolphinDAQ,PiCamera2,#00,20230323\n"
     ]
    }
   ],
   "source": [
    "print(epics.caget(\"PULSEGEN:info\"))\n",
    "print(epics.caget(\"LEDS:info\"))\n",
    "print(epics.caget(\"CAM:info\"))"
   ]
  },
  {
   "cell_type": "markdown",
   "id": "b6e6e7ba",
   "metadata": {},
   "source": [
    "## Set some nice initial settings"
   ]
  },
  {
   "cell_type": "code",
   "execution_count": 36,
   "id": "e104eeea",
   "metadata": {},
   "outputs": [
    {
     "data": {
      "text/plain": [
       "1"
      ]
     },
     "execution_count": 36,
     "metadata": {},
     "output_type": "execute_result"
    }
   ],
   "source": [
    "# Set LED brightnesses to zero and durations to 50 ms\n",
    "NLEDS = 6 # our SC22 sidekick system has six total LEDs, including the reference\n",
    "for i in range(NLEDS): # for each of our five LEDs\n",
    "    epics.caput('LEDS:CH{}:brig.VAL'.format(i), 255) # Set LED brightness to 255 out of 255 (max brightness)\n",
    "    epics.caput('LEDS:CH{}:dur.VAL'.format(i), 180) # Set LED 'flash on' duration to 200 ms\n",
    "\n",
    "# Zero out all trigger delays\n",
    "NCHANS = 2\n",
    "for i in range(NCHANS): # for each of our six pulse delay channels\n",
    "    epics.caput(\"PULSEGEN:CH{}:delay\".format(i), 0.0) # Set trigger delay to 0 ms\n",
    "\n",
    "epics.caput(\"PULSEGEN:CH1:delay\", 100) # Set trigger delay on camera to 100 ms; the LEDs seem to lag\n",
    "\n",
    "epics.caput(\"CAM:EXPOSURE\", 5.0e3) # Set trigger delay on camera to 100 ms; the LEDs seem to lag\n",
    "\n",
    "# Set rep rate\n",
    "epics.caput(\"PULSEGEN:reprate\", 5) # Set systemwide repetition rate to 5 Hz"
   ]
  },
  {
   "cell_type": "markdown",
   "id": "8f98d18d",
   "metadata": {},
   "source": [
    "### Set Camera ROI (you'll need to fill in correct values first)"
   ]
  },
  {
   "cell_type": "code",
   "execution_count": 6,
   "id": "fa6d2de5",
   "metadata": {},
   "outputs": [
    {
     "name": "stdout",
     "output_type": "stream",
     "text": [
      "264\n",
      "418\n",
      "1139\n",
      "444\n"
     ]
    }
   ],
   "source": [
    "epics.caput(\"CAM:ROI1:X\", 264)\n",
    "epics.caput(\"CAM:ROI1:Y\", 418)\n",
    "print(epics.caget(\"CAM:ROI1:X\"))\n",
    "print(epics.caget(\"CAM:ROI1:Y\"))\n",
    "epics.caput(\"CAM:ROI2:X\", 1139)\n",
    "epics.caput(\"CAM:ROI2:Y\", 444)\n",
    "print(epics.caget(\"CAM:ROI2:X\"))\n",
    "print(epics.caget(\"CAM:ROI2:Y\"))"
   ]
  },
  {
   "cell_type": "markdown",
   "id": "b7fdcceb",
   "metadata": {},
   "source": [
    "## (Optional) Print out current values for LEDs"
   ]
  },
  {
   "cell_type": "code",
   "execution_count": 8,
   "id": "3f337b5f",
   "metadata": {},
   "outputs": [
    {
     "name": "stdout",
     "output_type": "stream",
     "text": [
      "K0:0\n",
      "K1:0\n",
      "K2:0\n",
      "K3:0\n",
      "K4:0\n",
      "L0:255\n",
      "L1:0\n",
      "L2:0\n",
      "L3:0\n",
      "L4:0\n"
     ]
    },
    {
     "name": "stderr",
     "output_type": "stream",
     "text": [
      "CA.Client.Exception...............................................\n",
      "    Warning: \"Virtual circuit disconnect\"\n",
      "    Context: \"sc2:5064\"\n",
      "    Source File: ../cac.cpp line 1237\n",
      "    Current Time: Mon Nov 14 2022 18:37:55.008685869\n",
      "..................................................................\n"
     ]
    }
   ],
   "source": [
    "for i in range(NLEDS):\n",
    "    brig = epics.caget('LEDS:CH{}:brig.VAL'.format(i))\n",
    "    print(\"L{}:{}\".format(i,brig))\n"
   ]
  },
  {
   "cell_type": "code",
   "execution_count": null,
   "id": "17101b7e",
   "metadata": {},
   "outputs": [],
   "source": []
  }
 ],
 "metadata": {
  "kernelspec": {
   "display_name": "Python 3",
   "language": "python",
   "name": "python3"
  },
  "language_info": {
   "codemirror_mode": {
    "name": "ipython",
    "version": 3
   },
   "file_extension": ".py",
   "mimetype": "text/x-python",
   "name": "python",
   "nbconvert_exporter": "python",
   "pygments_lexer": "ipython3",
   "version": "3.9.6"
  }
 },
 "nbformat": 4,
 "nbformat_minor": 5
}
