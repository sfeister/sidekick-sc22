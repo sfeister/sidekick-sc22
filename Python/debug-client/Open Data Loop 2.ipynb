{
 "cells": [
  {
   "cell_type": "markdown",
   "id": "eb2545fb",
   "metadata": {},
   "source": [
    "# Open Data Loop\n",
    "\n",
    "Captures, in an open loop, camera data.\n",
    "\n",
    "Modeled off of: https://sfeister.github.io/sidekick-epics-docs/demos/OpenLoopHRR/"
   ]
  },
  {
   "cell_type": "markdown",
   "id": "a512063f",
   "metadata": {},
   "source": [
    "## Import Modules"
   ]
  },
  {
   "cell_type": "code",
   "execution_count": 3,
   "id": "d3343535",
   "metadata": {},
   "outputs": [],
   "source": [
    "import numpy as np\n",
    "import epics # 'epics' is part of pyepics\n",
    "from epics import PV\n",
    "from time import sleep\n",
    "import matplotlib.pyplot as plt"
   ]
  },
  {
   "cell_type": "code",
   "execution_count": 4,
   "id": "ebabe568",
   "metadata": {},
   "outputs": [],
   "source": [
    "pvroi1 = PV(\"CAM:ROI1:DATA.VAL\", form=\"time\")\n",
    "pvroi2 = PV(\"CAM:ROI2:DATA.VAL\", form=\"time\")\n",
    "leds = PV(\"LEDS:DATA.VAL\", form=\"time\")"
   ]
  },
  {
   "cell_type": "code",
   "execution_count": 17,
   "id": "df08fe4b",
   "metadata": {},
   "outputs": [],
   "source": [
    "def ledparse(datastr):\n",
    "    \"\"\" Parse the LED brightness data string, which comes in the format 'TRIG:123441,L0:251,L1:12,L2:201,L3:12,L4:156' \"\"\"\n",
    "    vals = [elem.split(\":\")[1] for elem in datastr.split(',')]\n",
    "    trig = np.int64(vals[0])\n",
    "    brigs = np.array(np.uint8(vals[1:]))\n",
    "    return trig, brigs"
   ]
  },
  {
   "cell_type": "code",
   "execution_count": 18,
   "id": "f0a7f89e",
   "metadata": {},
   "outputs": [],
   "source": [
    "def camparse(datastr):\n",
    "    \"\"\" Parse the RGB-color data string, which comes in the format 'TRIG:123441,R:251,G:12,B:201' \"\"\"\n",
    "    vals = [elem.split(\":\")[1] for elem in datastr.split(',')]\n",
    "    trig = np.int64(vals[0])\n",
    "    rgb = np.array(np.uint8(vals[1:]))\n",
    "    return trig, rgb"
   ]
  },
  {
   "cell_type": "code",
   "execution_count": 1,
   "id": "bad5a899",
   "metadata": {},
   "outputs": [
    {
     "ename": "NameError",
     "evalue": "name 'pvroi1' is not defined",
     "output_type": "error",
     "traceback": [
      "\u001b[1;31m---------------------------------------------------------------------------\u001b[0m",
      "\u001b[1;31mNameError\u001b[0m                                 Traceback (most recent call last)",
      "\u001b[1;32m<ipython-input-1-72e9d61ad755>\u001b[0m in \u001b[0;36m<module>\u001b[1;34m\u001b[0m\n\u001b[0;32m      3\u001b[0m     \u001b[0misfresh\u001b[0m \u001b[1;33m=\u001b[0m \u001b[1;32mTrue\u001b[0m\u001b[1;33m\u001b[0m\u001b[1;33m\u001b[0m\u001b[0m\n\u001b[0;32m      4\u001b[0m \u001b[1;33m\u001b[0m\u001b[0m\n\u001b[1;32m----> 5\u001b[1;33m \u001b[0mpvroi1\u001b[0m\u001b[1;33m.\u001b[0m\u001b[0madd_callback\u001b[0m\u001b[1;33m(\u001b[0m\u001b[0mdataCallback\u001b[0m\u001b[1;33m)\u001b[0m\u001b[1;33m\u001b[0m\u001b[1;33m\u001b[0m\u001b[0m\n\u001b[0m\u001b[0;32m      6\u001b[0m \u001b[1;33m\u001b[0m\u001b[0m\n\u001b[0;32m      7\u001b[0m \u001b[0mNSTEPS\u001b[0m \u001b[1;33m=\u001b[0m \u001b[1;36m10\u001b[0m\u001b[1;33m\u001b[0m\u001b[1;33m\u001b[0m\u001b[0m\n",
      "\u001b[1;31mNameError\u001b[0m: name 'pvroi1' is not defined"
     ]
    }
   ],
   "source": [
    "def dataCallback(pvname=None, value=None, **kw):\n",
    "    global isfresh\n",
    "    isfresh = True\n",
    "\n",
    "pvroi1.add_callback(dataCallback)\n",
    "\n",
    "NSTEPS = 10\n",
    "for i in range(NSTEPS):\n",
    "    isfresh = False\n",
    "    while not isfresh:\n",
    "        sleep(0.2)\n",
    "    trig1, rgb1 = camparse(pvroi1.value)\n",
    "    trig2, rgb2 = camparse(pvroi2.value)\n",
    "    trig3, brigs = ledparse(leds.value)\n",
    "    print(trig1, trig2, trig3)\n",
    "    print(rgb1, rgb2, brigs)\n",
    "    #print('ROI1: ' + pvroi1.value)\n",
    "    #print('ROI2: ' + pvroi2.value)\n",
    "\n",
    "pvroi1.clear_callbacks()"
   ]
  },
  {
   "cell_type": "code",
   "execution_count": 8,
   "id": "8e65471d",
   "metadata": {},
   "outputs": [
    {
     "name": "stdout",
     "output_type": "stream",
     "text": [
      "TRIG:1828455,R:55,G:50,B:48\n"
     ]
    }
   ],
   "source": [
    "print(pvroi1.value)"
   ]
  },
  {
   "cell_type": "code",
   "execution_count": 9,
   "id": "b77fb95c",
   "metadata": {},
   "outputs": [],
   "source": [
    "pvroi1.clear_callbacks()"
   ]
  },
  {
   "cell_type": "code",
   "execution_count": 11,
   "id": "4a085804",
   "metadata": {},
   "outputs": [
    {
     "name": "stdout",
     "output_type": "stream",
     "text": [
      "New Photodetector Data!\n",
      "TRIG:1828566,R:54,G:49,B:48\n",
      "New Photodetector Data!\n",
      "TRIG:1828567,R:54,G:49,B:48\n",
      "New Photodetector Data!\n",
      "TRIG:1828568,R:54,G:49,B:48\n",
      "New Photodetector Data!\n",
      "TRIG:1828569,R:55,G:49,B:48\n",
      "New Photodetector Data!\n",
      "TRIG:1828570,R:55,G:49,B:47\n",
      "New Photodetector Data!\n",
      "TRIG:1828571,R:55,G:49,B:48\n",
      "New Photodetector Data!\n",
      "TRIG:1828572,R:109,G:114,B:107\n",
      "New Photodetector Data!\n",
      "TRIG:1828573,R:24,G:25,B:23\n",
      "New Photodetector Data!\n",
      "TRIG:1828574,R:27,G:27,B:26\n"
     ]
    }
   ],
   "source": [
    "def testCallback(pvname=None, value=None, **kw):\n",
    "    print('New PVROI Data!')\n",
    "    print(value)\n",
    "\n",
    "pvroi1.add_callback(testCallback)\n",
    "sleep(10)\n",
    "pvroi1.clear_callbacks()"
   ]
  },
  {
   "cell_type": "code",
   "execution_count": null,
   "id": "896eda96",
   "metadata": {},
   "outputs": [],
   "source": []
  }
 ],
 "metadata": {
  "kernelspec": {
   "display_name": "Python 3",
   "language": "python",
   "name": "python3"
  },
  "language_info": {
   "codemirror_mode": {
    "name": "ipython",
    "version": 3
   },
   "file_extension": ".py",
   "mimetype": "text/x-python",
   "name": "python",
   "nbconvert_exporter": "python",
   "pygments_lexer": "ipython3",
   "version": "3.9.6"
  }
 },
 "nbformat": 4,
 "nbformat_minor": 5
}
