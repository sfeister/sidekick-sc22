{
 "cells": [
  {
   "cell_type": "markdown",
   "metadata": {},
   "source": [
    "# Open Data Loop\n",
    "\n",
    "Captures, in an open loop, camera data.\n",
    "\n",
    "Modeled off of: https://sfeister.github.io/sidekick-epics-docs/demos/OpenLoopHRR/"
   ]
  },
  {
   "cell_type": "markdown",
   "metadata": {},
   "source": [
    "## Import Modules"
   ]
  },
  {
   "cell_type": "code",
   "execution_count": 3,
   "metadata": {},
   "outputs": [],
   "source": [
    "import numpy as np\n",
    "import epics # 'epics' is part of pyepics\n",
    "from epics import PV\n",
    "from time import sleep\n",
    "import matplotlib.pyplot as plt"
   ]
  },
  {
   "cell_type": "code",
   "execution_count": 4,
   "metadata": {},
   "outputs": [],
   "source": [
    "pvroi1 = PV(\"CAM:ROI1:DATA.VAL\", form=\"time\")\n",
    "pvroi2 = PV(\"CAM:ROI2:DATA.VAL\", form=\"time\")\n",
    "leds = PV(\"LEDS:data.VAL\", form=\"time\")"
   ]
  },
  {
   "cell_type": "code",
   "execution_count": 5,
   "metadata": {},
   "outputs": [
    {
     "name": "stdout",
     "output_type": "stream",
     "text": [
      "TRIG:3699,R:74,G:98,B:223\n",
      "TRIG:3699,R:82,G:25,B:30\n",
      "4450,255,255,255,255,26,\n"
     ]
    }
   ],
   "source": [
    "print(pvroi1.value)\n",
    "print(pvroi2.value)\n",
    "print(leds.value)"
   ]
  },
  {
   "cell_type": "code",
   "execution_count": 100,
   "metadata": {},
   "outputs": [
    {
     "data": {
      "text/plain": [
       "1"
      ]
     },
     "execution_count": 100,
     "metadata": {},
     "output_type": "execute_result"
    }
   ],
   "source": [
    "epics.caput(\"CAM:TRIGCNT\", 12555)"
   ]
  },
  {
   "cell_type": "code",
   "execution_count": 45,
   "metadata": {},
   "outputs": [],
   "source": [
    "def ledparse(datastr):\n",
    "    \"\"\" Parse the LED brightness data string, which comes in the format '123441,251,12,201,12,156,' where it goes 'TRIG, LED0, LED1, LED2, LED3, LED4' \"\"\"\n",
    "    vals = np.array(datastr.split(','))[:-1]\n",
    "    trig = np.int64(vals[0])\n",
    "    brigs = np.array(np.uint8(vals[1:]))\n",
    "    return trig, brigs"
   ]
  },
  {
   "cell_type": "code",
   "execution_count": 103,
   "metadata": {},
   "outputs": [],
   "source": [
    "def camparse(datastr):\n",
    "    \"\"\" Parse the RGB-color data string, which comes in the format 'TRIG:123441,R:251,G:12,B:201' \"\"\"\n",
    "    vals = [elem.split(\":\")[1] for elem in datastr.split(',')]\n",
    "    trig = np.int64(vals[0])\n",
    "    rgb = np.array(np.uint8(vals[1:]))\n",
    "    return trig + 752, rgb"
   ]
  },
  {
   "cell_type": "code",
   "execution_count": 104,
   "metadata": {},
   "outputs": [
    {
     "name": "stdout",
     "output_type": "stream",
     "text": [
      "(2207, array([ 70,  91, 240], dtype=uint8))\n",
      "(2207, array([ 57,  46, 128], dtype=uint8))\n",
      "(2208, array([255, 255, 255, 255, 255], dtype=uint8))\n"
     ]
    }
   ],
   "source": [
    "print(camparse(pvroi1.value))\n",
    "print(camparse(pvroi2.value))\n",
    "print(ledparse(leds.value))"
   ]
  },
  {
   "cell_type": "code",
   "execution_count": null,
   "metadata": {},
   "outputs": [],
   "source": []
  },
  {
   "cell_type": "code",
   "execution_count": 108,
   "metadata": {},
   "outputs": [
    {
     "name": "stdout",
     "output_type": "stream",
     "text": [
      "2270 2270 2270\n",
      "[  8  71 216] [ 57  46 139] [  0  50 100 150 200]\n",
      "2271 2271 2271\n",
      "[36 43 46] [ 57  46 152] [  0  50 100 150 200]\n",
      "2272 2272 2272\n",
      "[ 44  55 146] [ 56  47 151] [0 0 0 0 0]\n",
      "2273 2272 2273\n",
      "[ 51  66 194] [ 56  47 151] [50 50 50 50 50]\n",
      "2274 2274 2274\n",
      "[ 58  76 217] [ 57  46 141] [100 100 100 100 100]\n",
      "2275 2275 2275\n",
      "[ 65  84 229] [ 56  46 132] [150 150 150 150 150]\n",
      "2275 2275 2276\n",
      "[ 65  84 229] [ 56  46 132] [200 200 200 200 200]\n",
      "2277 2277 2277\n",
      "[ 72  94 243] [ 56  46 132] [250 250 250 250 250]\n",
      "2278 2278 2278\n",
      "[ 71  90 239] [ 56  47 129] [255 255 255 255 255]\n",
      "2279 2279 2279\n",
      "[ 72 100 245] [ 57  51 141] [255 255 255 255 255]\n"
     ]
    }
   ],
   "source": [
    "def dataCallback(pvname=None, value=None, **kw):\n",
    "    global isfresh\n",
    "    isfresh = True\n",
    "\n",
    "epics.caput(\"PULSEGEN:reprate\", 0.25)\n",
    "pvroi1.add_callback(dataCallback)\n",
    "\n",
    "NSTEPS = 10\n",
    "for i in range(NSTEPS):\n",
    "    isfresh = False\n",
    "    while not isfresh:\n",
    "        sleep(0.01)\n",
    "    trig1, rgb1 = camparse(pvroi1.value)\n",
    "    trig2, rgb2 = camparse(pvroi2.value)\n",
    "    trig3, brigs = ledparse(leds.value)\n",
    "    print(trig1, trig2, trig3)\n",
    "    print(rgb1, rgb2, brigs)\n",
    "    for j in range(len(brigs)):\n",
    "        epics.caput('LEDS:CH{}:brig.VAL'.format(j), i*50)\n",
    "    #print('ROI1: ' + pvroi1.value)\n",
    "    #print('ROI2: ' + pvroi2.value)\n",
    "\n",
    "pvroi1.clear_callbacks()"
   ]
  },
  {
   "cell_type": "code",
   "execution_count": null,
   "metadata": {},
   "outputs": [],
   "source": [
    "print(pvroi1.value)"
   ]
  },
  {
   "cell_type": "code",
   "execution_count": 9,
   "metadata": {},
   "outputs": [],
   "source": [
    "pvroi1.clear_callbacks()"
   ]
  },
  {
   "cell_type": "code",
   "execution_count": 11,
   "metadata": {},
   "outputs": [
    {
     "name": "stdout",
     "output_type": "stream",
     "text": [
      "New Photodetector Data!\n",
      "TRIG:1828566,R:54,G:49,B:48\n",
      "New Photodetector Data!\n",
      "TRIG:1828567,R:54,G:49,B:48\n",
      "New Photodetector Data!\n",
      "TRIG:1828568,R:54,G:49,B:48\n",
      "New Photodetector Data!\n",
      "TRIG:1828569,R:55,G:49,B:48\n",
      "New Photodetector Data!\n",
      "TRIG:1828570,R:55,G:49,B:47\n",
      "New Photodetector Data!\n",
      "TRIG:1828571,R:55,G:49,B:48\n",
      "New Photodetector Data!\n",
      "TRIG:1828572,R:109,G:114,B:107\n",
      "New Photodetector Data!\n",
      "TRIG:1828573,R:24,G:25,B:23\n",
      "New Photodetector Data!\n",
      "TRIG:1828574,R:27,G:27,B:26\n"
     ]
    }
   ],
   "source": [
    "def testCallback(pvname=None, value=None, **kw):\n",
    "    print('New PVROI Data!')\n",
    "    print(value)\n",
    "\n",
    "pvroi1.add_callback(testCallback)\n",
    "sleep(10)\n",
    "pvroi1.clear_callbacks()"
   ]
  },
  {
   "cell_type": "code",
   "execution_count": null,
   "metadata": {},
   "outputs": [],
   "source": []
  }
 ],
 "metadata": {
  "kernelspec": {
   "display_name": "Python 3",
   "language": "python",
   "name": "python3"
  },
  "language_info": {
   "codemirror_mode": {
    "name": "ipython",
    "version": 3
   },
   "file_extension": ".py",
   "mimetype": "text/x-python",
   "name": "python",
   "nbconvert_exporter": "python",
   "pygments_lexer": "ipython3",
   "version": "3.8.5"
  }
 },
 "nbformat": 4,
 "nbformat_minor": 5
}
