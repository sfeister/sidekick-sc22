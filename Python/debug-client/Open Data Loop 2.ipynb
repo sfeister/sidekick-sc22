{
 "cells": [
  {
   "cell_type": "markdown",
   "id": "61d77b07",
   "metadata": {},
   "source": [
    "# Open Data Loop\n",
    "\n",
    "Captures, in an open loop, camera data.\n",
    "\n",
    "Modeled off of: https://sfeister.github.io/sidekick-epics-docs/demos/OpenLoopHRR/"
   ]
  },
  {
   "cell_type": "markdown",
   "id": "ff53cefb",
   "metadata": {},
   "source": [
    "## Import Modules"
   ]
  },
  {
   "cell_type": "code",
   "execution_count": 1,
   "id": "69d0799d",
   "metadata": {},
   "outputs": [],
   "source": [
    "import numpy as np\n",
    "import epics # 'epics' is part of pyepics\n",
    "from epics import PV\n",
    "from time import sleep\n",
    "import matplotlib.pyplot as plt"
   ]
  },
  {
   "cell_type": "code",
   "execution_count": 2,
   "id": "e212bb33",
   "metadata": {},
   "outputs": [],
   "source": [
    "pvroi1 = PV(\"CAM:ROI1:DATA.VAL\", form=\"time\")\n",
    "pvroi2 = PV(\"CAM:ROI2:DATA.VAL\", form=\"time\")\n",
    "leds = PV(\"LEDS:data.VAL\", form=\"time\")"
   ]
  },
  {
   "cell_type": "code",
   "execution_count": 3,
   "id": "7b45a346",
   "metadata": {},
   "outputs": [
    {
     "name": "stdout",
     "output_type": "stream",
     "text": [
      "TRIG:388,R:71,G:121,B:243\n",
      "TRIG:388,R:56,G:36,B:126\n",
      "6291,200,200,200,200,200,\n"
     ]
    }
   ],
   "source": [
    "print(pvroi1.value)\n",
    "print(pvroi2.value)\n",
    "print(leds.value)"
   ]
  },
  {
   "cell_type": "code",
   "execution_count": 4,
   "id": "969972db",
   "metadata": {},
   "outputs": [
    {
     "data": {
      "text/plain": [
       "1"
      ]
     },
     "execution_count": 4,
     "metadata": {},
     "output_type": "execute_result"
    }
   ],
   "source": [
    "epics.caput(\"CAM:TRIGCNT\", 12555)"
   ]
  },
  {
   "cell_type": "code",
   "execution_count": 5,
   "id": "cc22d34b",
   "metadata": {},
   "outputs": [],
   "source": [
    "def ledparse(datastr):\n",
    "    \"\"\" Parse the LED brightness data string, which comes in the format '123441,251,12,201,12,156,' where it goes 'TRIG, LED0, LED1, LED2, LED3, LED4' \"\"\"\n",
    "    vals = np.array(datastr.split(','))[:-1]\n",
    "    trig = np.int64(vals[0])\n",
    "    brigs = np.array(np.uint8(vals[1:]))\n",
    "    return trig, brigs"
   ]
  },
  {
   "cell_type": "code",
   "execution_count": 6,
   "id": "b272e711",
   "metadata": {},
   "outputs": [],
   "source": [
    "def camparse(datastr):\n",
    "    \"\"\" Parse the RGB-color data string, which comes in the format 'TRIG:123441,R:251,G:12,B:201' \"\"\"\n",
    "    vals = [elem.split(\":\")[1] for elem in datastr.split(',')]\n",
    "    trig = np.int64(vals[0])\n",
    "    rgb = np.array(np.uint8(vals[1:]))\n",
    "    return trig + 752, rgb"
   ]
  },
  {
   "cell_type": "code",
   "execution_count": 7,
   "id": "d479df70",
   "metadata": {},
   "outputs": [
    {
     "name": "stdout",
     "output_type": "stream",
     "text": [
      "(1140, array([ 71, 121, 243], dtype=uint8))\n",
      "(1140, array([ 56,  36, 126], dtype=uint8))\n",
      "(6291, array([200, 200, 200, 200, 200], dtype=uint8))\n"
     ]
    }
   ],
   "source": [
    "print(camparse(pvroi1.value))\n",
    "print(camparse(pvroi2.value))\n",
    "print(ledparse(leds.value))"
   ]
  },
  {
   "cell_type": "code",
   "execution_count": null,
   "id": "8c3080de",
   "metadata": {},
   "outputs": [],
   "source": []
  },
  {
   "cell_type": "code",
   "execution_count": 8,
   "id": "2193f2ec",
   "metadata": {},
   "outputs": [
    {
     "name": "stdout",
     "output_type": "stream",
     "text": [
      "1141 1141 6291\n",
      "[ 71 122 244] [ 56  36 126] [200 200 200 200 200]\n",
      "1142 1141 6292\n",
      "[17 20 20] [ 56  36 126] [200 200 200 200 200]\n",
      "1143 1143 6294\n",
      "[ 36  53 158] [ 58  36 139] [50 50 50 50 50]\n",
      "1144 1144 6294\n",
      "[ 48  80 208] [ 57  37 136] [50 50 50 50 50]\n",
      "1145 1145 6296\n",
      "[ 66  97 226] [ 58  33 126] [150 150 150 150 150]\n",
      "1146 1146 6296\n",
      "[ 83 111 237] [ 58  31 115] [150 150 150 150 150]\n",
      "1147 1147 6298\n",
      "[ 90 133 250] [ 56  34 119] [250 250 250 250 250]\n",
      "1148 1148 6298\n",
      "[ 88 137 252] [ 55  34 119] [250 250 250 250 250]\n",
      "1149 1149 6300\n",
      "[ 93 132 250] [ 57  32 115] [255 255 255 255 255]\n",
      "1150 1150 6300\n",
      "[ 88 138 252] [ 55  35 120] [255 255 255 255 255]\n"
     ]
    }
   ],
   "source": [
    "def dataCallback(pvname=None, value=None, **kw):\n",
    "    global isfresh\n",
    "    isfresh = True\n",
    "\n",
    "epics.caput(\"PULSEGEN:reprate\", 0.25)\n",
    "pvroi1.add_callback(dataCallback)\n",
    "\n",
    "NSTEPS = 10\n",
    "for i in range(NSTEPS):\n",
    "    isfresh = False\n",
    "    while not isfresh:\n",
    "        sleep(0.01)\n",
    "    trig1, rgb1 = camparse(pvroi1.value)\n",
    "    trig2, rgb2 = camparse(pvroi2.value)\n",
    "    trig3, brigs = ledparse(leds.value)\n",
    "    print(trig1, trig2, trig3)\n",
    "    print(rgb1, rgb2, brigs)\n",
    "    for j in range(len(brigs)):\n",
    "        epics.caput('LEDS:CH{}:brig.VAL'.format(j), i*50)\n",
    "    #print('ROI1: ' + pvroi1.value)\n",
    "    #print('ROI2: ' + pvroi2.value)\n",
    "\n",
    "pvroi1.clear_callbacks()"
   ]
  },
  {
   "cell_type": "code",
   "execution_count": 9,
   "id": "198cea99",
   "metadata": {},
   "outputs": [
    {
     "name": "stdout",
     "output_type": "stream",
     "text": [
      "TRIG:398,R:88,G:138,B:252\n"
     ]
    }
   ],
   "source": [
    "print(pvroi1.value)"
   ]
  },
  {
   "cell_type": "code",
   "execution_count": 10,
   "id": "708c4bab",
   "metadata": {},
   "outputs": [],
   "source": [
    "pvroi1.clear_callbacks()"
   ]
  },
  {
   "cell_type": "code",
   "execution_count": 11,
   "id": "6ff19ca2",
   "metadata": {},
   "outputs": [
    {
     "name": "stdout",
     "output_type": "stream",
     "text": [
      "New PVROI Data!\n",
      "TRIG:399,R:87,G:138,B:252\n",
      "New PVROI Data!\n",
      "TRIG:400,R:88,G:139,B:252\n"
     ]
    }
   ],
   "source": [
    "def testCallback(pvname=None, value=None, **kw):\n",
    "    print('New PVROI Data!')\n",
    "    print(value)\n",
    "\n",
    "pvroi1.add_callback(testCallback)\n",
    "sleep(10)\n",
    "pvroi1.clear_callbacks()"
   ]
  },
  {
   "cell_type": "code",
   "execution_count": null,
   "id": "50ff280c",
   "metadata": {},
   "outputs": [],
   "source": []
  }
 ],
 "metadata": {
  "kernelspec": {
   "display_name": "Python 3",
   "language": "python",
   "name": "python3"
  },
  "language_info": {
   "codemirror_mode": {
    "name": "ipython",
    "version": 3
   },
   "file_extension": ".py",
   "mimetype": "text/x-python",
   "name": "python",
   "nbconvert_exporter": "python",
   "pygments_lexer": "ipython3",
   "version": "3.9.6"
  }
 },
 "nbformat": 4,
 "nbformat_minor": 5
}
