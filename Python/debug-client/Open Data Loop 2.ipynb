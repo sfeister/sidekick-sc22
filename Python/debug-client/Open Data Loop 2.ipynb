{
 "cells": [
  {
   "cell_type": "markdown",
   "id": "eb2545fb",
   "metadata": {},
   "source": [
    "# Open Data Loop\n",
    "\n",
    "Captures, in an open loop, camera data.\n",
    "\n",
    "Modeled off of: https://sfeister.github.io/sidekick-epics-docs/demos/OpenLoopHRR/"
   ]
  },
  {
   "cell_type": "markdown",
   "id": "a512063f",
   "metadata": {},
   "source": [
    "## Import Modules"
   ]
  },
  {
   "cell_type": "code",
   "execution_count": 1,
   "id": "d3343535",
   "metadata": {},
   "outputs": [],
   "source": [
    "import numpy as np\n",
    "import epics # 'epics' is part of pyepics\n",
    "from epics import PV\n",
    "from time import sleep\n",
    "import matplotlib.pyplot as plt"
   ]
  },
  {
   "cell_type": "code",
   "execution_count": 10,
   "id": "ebabe568",
   "metadata": {},
   "outputs": [],
   "source": [
    "pvroi1 = PV(\"CAM:ROI1:DATA.VAL\", form=\"time\")\n",
    "pvroi2 = PV(\"CAM:ROI2:DATA.VAL\", form=\"time\")\n",
    "leds = PV(\"LEDS:data.VAL\", form=\"time\")"
   ]
  },
  {
   "cell_type": "code",
   "execution_count": 11,
   "id": "0baa0fff",
   "metadata": {},
   "outputs": [
    {
     "name": "stdout",
     "output_type": "stream",
     "text": [
      "TRIG:440,R:58,G:101,B:237\n",
      "TRIG:440,R:49,G:34,B:121\n",
      "TRIG: 3008, L0: 255, L1: 255, L2: 255,\n"
     ]
    }
   ],
   "source": [
    "print(pvroi1.value)\n",
    "print(pvroi2.value)\n",
    "print(leds.value)"
   ]
  },
  {
   "cell_type": "code",
   "execution_count": 3,
   "id": "df08fe4b",
   "metadata": {},
   "outputs": [],
   "source": [
    "def ledparse(datastr):\n",
    "    \"\"\" Parse the LED brightness data string, which comes in the format 'TRIG:123441,L0:251,L1:12,L2:201,L3:12,L4:156' \"\"\"\n",
    "    vals = [elem.split(\":\")[1] for elem in datastr.split(',')]\n",
    "    trig = np.int64(vals[0])\n",
    "    brigs = np.array(np.uint8(vals[1:]))\n",
    "    return trig, brigs"
   ]
  },
  {
   "cell_type": "code",
   "execution_count": 4,
   "id": "f0a7f89e",
   "metadata": {},
   "outputs": [],
   "source": [
    "def camparse(datastr):\n",
    "    \"\"\" Parse the RGB-color data string, which comes in the format 'TRIG:123441,R:251,G:12,B:201' \"\"\"\n",
    "    vals = [elem.split(\":\")[1] for elem in datastr.split(',')]\n",
    "    trig = np.int64(vals[0])\n",
    "    rgb = np.array(np.uint8(vals[1:]))\n",
    "    return trig, rgb"
   ]
  },
  {
   "cell_type": "code",
   "execution_count": 5,
   "id": "bad5a899",
   "metadata": {},
   "outputs": [
    {
     "ename": "AttributeError",
     "evalue": "'NoneType' object has no attribute 'split'",
     "output_type": "error",
     "traceback": [
      "\u001b[1;31m---------------------------------------------------------------------------\u001b[0m",
      "\u001b[1;31mAttributeError\u001b[0m                            Traceback (most recent call last)",
      "\u001b[1;32m<ipython-input-5-72e9d61ad755>\u001b[0m in \u001b[0;36m<module>\u001b[1;34m\u001b[0m\n\u001b[0;32m     12\u001b[0m     \u001b[0mtrig1\u001b[0m\u001b[1;33m,\u001b[0m \u001b[0mrgb1\u001b[0m \u001b[1;33m=\u001b[0m \u001b[0mcamparse\u001b[0m\u001b[1;33m(\u001b[0m\u001b[0mpvroi1\u001b[0m\u001b[1;33m.\u001b[0m\u001b[0mvalue\u001b[0m\u001b[1;33m)\u001b[0m\u001b[1;33m\u001b[0m\u001b[1;33m\u001b[0m\u001b[0m\n\u001b[0;32m     13\u001b[0m     \u001b[0mtrig2\u001b[0m\u001b[1;33m,\u001b[0m \u001b[0mrgb2\u001b[0m \u001b[1;33m=\u001b[0m \u001b[0mcamparse\u001b[0m\u001b[1;33m(\u001b[0m\u001b[0mpvroi2\u001b[0m\u001b[1;33m.\u001b[0m\u001b[0mvalue\u001b[0m\u001b[1;33m)\u001b[0m\u001b[1;33m\u001b[0m\u001b[1;33m\u001b[0m\u001b[0m\n\u001b[1;32m---> 14\u001b[1;33m     \u001b[0mtrig3\u001b[0m\u001b[1;33m,\u001b[0m \u001b[0mbrigs\u001b[0m \u001b[1;33m=\u001b[0m \u001b[0mledparse\u001b[0m\u001b[1;33m(\u001b[0m\u001b[0mleds\u001b[0m\u001b[1;33m.\u001b[0m\u001b[0mvalue\u001b[0m\u001b[1;33m)\u001b[0m\u001b[1;33m\u001b[0m\u001b[1;33m\u001b[0m\u001b[0m\n\u001b[0m\u001b[0;32m     15\u001b[0m     \u001b[0mprint\u001b[0m\u001b[1;33m(\u001b[0m\u001b[0mtrig1\u001b[0m\u001b[1;33m,\u001b[0m \u001b[0mtrig2\u001b[0m\u001b[1;33m,\u001b[0m \u001b[0mtrig3\u001b[0m\u001b[1;33m)\u001b[0m\u001b[1;33m\u001b[0m\u001b[1;33m\u001b[0m\u001b[0m\n\u001b[0;32m     16\u001b[0m     \u001b[0mprint\u001b[0m\u001b[1;33m(\u001b[0m\u001b[0mrgb1\u001b[0m\u001b[1;33m,\u001b[0m \u001b[0mrgb2\u001b[0m\u001b[1;33m,\u001b[0m \u001b[0mbrigs\u001b[0m\u001b[1;33m)\u001b[0m\u001b[1;33m\u001b[0m\u001b[1;33m\u001b[0m\u001b[0m\n",
      "\u001b[1;32m<ipython-input-3-1ed8560542cd>\u001b[0m in \u001b[0;36mledparse\u001b[1;34m(datastr)\u001b[0m\n\u001b[0;32m      1\u001b[0m \u001b[1;32mdef\u001b[0m \u001b[0mledparse\u001b[0m\u001b[1;33m(\u001b[0m\u001b[0mdatastr\u001b[0m\u001b[1;33m)\u001b[0m\u001b[1;33m:\u001b[0m\u001b[1;33m\u001b[0m\u001b[1;33m\u001b[0m\u001b[0m\n\u001b[0;32m      2\u001b[0m     \u001b[1;34m\"\"\" Parse the LED brightness data string, which comes in the format 'TRIG:123441,L0:251,L1:12,L2:201,L3:12,L4:156' \"\"\"\u001b[0m\u001b[1;33m\u001b[0m\u001b[1;33m\u001b[0m\u001b[0m\n\u001b[1;32m----> 3\u001b[1;33m     \u001b[0mvals\u001b[0m \u001b[1;33m=\u001b[0m \u001b[1;33m[\u001b[0m\u001b[0melem\u001b[0m\u001b[1;33m.\u001b[0m\u001b[0msplit\u001b[0m\u001b[1;33m(\u001b[0m\u001b[1;34m\":\"\u001b[0m\u001b[1;33m)\u001b[0m\u001b[1;33m[\u001b[0m\u001b[1;36m1\u001b[0m\u001b[1;33m]\u001b[0m \u001b[1;32mfor\u001b[0m \u001b[0melem\u001b[0m \u001b[1;32min\u001b[0m \u001b[0mdatastr\u001b[0m\u001b[1;33m.\u001b[0m\u001b[0msplit\u001b[0m\u001b[1;33m(\u001b[0m\u001b[1;34m','\u001b[0m\u001b[1;33m)\u001b[0m\u001b[1;33m]\u001b[0m\u001b[1;33m\u001b[0m\u001b[1;33m\u001b[0m\u001b[0m\n\u001b[0m\u001b[0;32m      4\u001b[0m     \u001b[0mtrig\u001b[0m \u001b[1;33m=\u001b[0m \u001b[0mnp\u001b[0m\u001b[1;33m.\u001b[0m\u001b[0mint64\u001b[0m\u001b[1;33m(\u001b[0m\u001b[0mvals\u001b[0m\u001b[1;33m[\u001b[0m\u001b[1;36m0\u001b[0m\u001b[1;33m]\u001b[0m\u001b[1;33m)\u001b[0m\u001b[1;33m\u001b[0m\u001b[1;33m\u001b[0m\u001b[0m\n\u001b[0;32m      5\u001b[0m     \u001b[0mbrigs\u001b[0m \u001b[1;33m=\u001b[0m \u001b[0mnp\u001b[0m\u001b[1;33m.\u001b[0m\u001b[0marray\u001b[0m\u001b[1;33m(\u001b[0m\u001b[0mnp\u001b[0m\u001b[1;33m.\u001b[0m\u001b[0muint8\u001b[0m\u001b[1;33m(\u001b[0m\u001b[0mvals\u001b[0m\u001b[1;33m[\u001b[0m\u001b[1;36m1\u001b[0m\u001b[1;33m:\u001b[0m\u001b[1;33m]\u001b[0m\u001b[1;33m)\u001b[0m\u001b[1;33m)\u001b[0m\u001b[1;33m\u001b[0m\u001b[1;33m\u001b[0m\u001b[0m\n",
      "\u001b[1;31mAttributeError\u001b[0m: 'NoneType' object has no attribute 'split'"
     ]
    }
   ],
   "source": [
    "def dataCallback(pvname=None, value=None, **kw):\n",
    "    global isfresh\n",
    "    isfresh = True\n",
    "\n",
    "pvroi1.add_callback(dataCallback)\n",
    "\n",
    "NSTEPS = 10\n",
    "for i in range(NSTEPS):\n",
    "    isfresh = False\n",
    "    while not isfresh:\n",
    "        sleep(0.2)\n",
    "    trig1, rgb1 = camparse(pvroi1.value)\n",
    "    trig2, rgb2 = camparse(pvroi2.value)\n",
    "    trig3, brigs = ledparse(leds.value)\n",
    "    print(trig1, trig2, trig3)\n",
    "    print(rgb1, rgb2, brigs)\n",
    "    #print('ROI1: ' + pvroi1.value)\n",
    "    #print('ROI2: ' + pvroi2.value)\n",
    "\n",
    "pvroi1.clear_callbacks()"
   ]
  },
  {
   "cell_type": "code",
   "execution_count": null,
   "id": "8e65471d",
   "metadata": {},
   "outputs": [],
   "source": [
    "print(pvroi1.value)"
   ]
  },
  {
   "cell_type": "code",
   "execution_count": 9,
   "id": "b77fb95c",
   "metadata": {},
   "outputs": [],
   "source": [
    "pvroi1.clear_callbacks()"
   ]
  },
  {
   "cell_type": "code",
   "execution_count": 11,
   "id": "4a085804",
   "metadata": {},
   "outputs": [
    {
     "name": "stdout",
     "output_type": "stream",
     "text": [
      "New Photodetector Data!\n",
      "TRIG:1828566,R:54,G:49,B:48\n",
      "New Photodetector Data!\n",
      "TRIG:1828567,R:54,G:49,B:48\n",
      "New Photodetector Data!\n",
      "TRIG:1828568,R:54,G:49,B:48\n",
      "New Photodetector Data!\n",
      "TRIG:1828569,R:55,G:49,B:48\n",
      "New Photodetector Data!\n",
      "TRIG:1828570,R:55,G:49,B:47\n",
      "New Photodetector Data!\n",
      "TRIG:1828571,R:55,G:49,B:48\n",
      "New Photodetector Data!\n",
      "TRIG:1828572,R:109,G:114,B:107\n",
      "New Photodetector Data!\n",
      "TRIG:1828573,R:24,G:25,B:23\n",
      "New Photodetector Data!\n",
      "TRIG:1828574,R:27,G:27,B:26\n"
     ]
    }
   ],
   "source": [
    "def testCallback(pvname=None, value=None, **kw):\n",
    "    print('New PVROI Data!')\n",
    "    print(value)\n",
    "\n",
    "pvroi1.add_callback(testCallback)\n",
    "sleep(10)\n",
    "pvroi1.clear_callbacks()"
   ]
  },
  {
   "cell_type": "code",
   "execution_count": null,
   "id": "896eda96",
   "metadata": {},
   "outputs": [],
   "source": []
  }
 ],
 "metadata": {
  "kernelspec": {
   "display_name": "Python 3",
   "language": "python",
   "name": "python3"
  },
  "language_info": {
   "codemirror_mode": {
    "name": "ipython",
    "version": 3
   },
   "file_extension": ".py",
   "mimetype": "text/x-python",
   "name": "python",
   "nbconvert_exporter": "python",
   "pygments_lexer": "ipython3",
   "version": "3.9.6"
  }
 },
 "nbformat": 4,
 "nbformat_minor": 5
}
