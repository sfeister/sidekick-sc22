{
 "cells": [
  {
   "cell_type": "code",
   "execution_count": 1,
   "id": "4bc2c1ae",
   "metadata": {},
   "outputs": [],
   "source": [
    "import numpy as np\n",
    "import epics # 'epics' is part of pyepics\n",
    "from epics import PV\n",
    "from time import sleep\n",
    "import matplotlib.pyplot as plt"
   ]
  },
  {
   "cell_type": "code",
   "execution_count": 2,
   "id": "ab0f2914",
   "metadata": {},
   "outputs": [
    {
     "name": "stdout",
     "output_type": "stream",
     "text": [
      "DolphinDAQ,PiCamera2,#00,20221112-5AM\n",
      "0\n",
      "310\n"
     ]
    }
   ],
   "source": [
    "print(epics.caget(\"CAM:INFO\"))\n",
    "print(epics.caget(\"CAM:ENABLE\"))\n",
    "print(epics.caget(\"CAM:ROI1:X\"))"
   ]
  },
  {
   "cell_type": "code",
   "execution_count": 3,
   "id": "65a66162",
   "metadata": {},
   "outputs": [
    {
     "name": "stdout",
     "output_type": "stream",
     "text": [
      "TRIG:1828474,R:99,G:99,B:100\n",
      "TRIG:1828474,R:34,G:33,B:33\n"
     ]
    }
   ],
   "source": [
    "print(epics.caget(\"CAM:ROI1:DATA\"))\n",
    "print(epics.caget(\"CAM:ROI2:DATA\"))"
   ]
  },
  {
   "cell_type": "code",
   "execution_count": 13,
   "id": "3aa68433",
   "metadata": {},
   "outputs": [
    {
     "data": {
      "text/plain": [
       "1"
      ]
     },
     "execution_count": 13,
     "metadata": {},
     "output_type": "execute_result"
    }
   ],
   "source": [
    "epics.caput(\"CAM:DEBUG:ENABLE\", 0)"
   ]
  },
  {
   "cell_type": "code",
   "execution_count": null,
   "id": "f0c2b6da",
   "metadata": {},
   "outputs": [],
   "source": []
  }
 ],
 "metadata": {
  "kernelspec": {
   "display_name": "Python 3 (ipykernel)",
   "language": "python",
   "name": "python3"
  },
  "language_info": {
   "codemirror_mode": {
    "name": "ipython",
    "version": 3
   },
   "file_extension": ".py",
   "mimetype": "text/x-python",
   "name": "python",
   "nbconvert_exporter": "python",
   "pygments_lexer": "ipython3",
   "version": "3.9.7"
  }
 },
 "nbformat": 4,
 "nbformat_minor": 5
}
