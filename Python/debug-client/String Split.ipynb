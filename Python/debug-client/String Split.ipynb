{
 "cells": [
  {
   "cell_type": "markdown",
   "id": "fa489ebc",
   "metadata": {},
   "source": [
    "# String Split\n",
    "\n",
    "Practice splitting up data strings that one would expect back from the arduino devices"
   ]
  },
  {
   "cell_type": "code",
   "execution_count": 11,
   "id": "977ee30c",
   "metadata": {},
   "outputs": [],
   "source": [
    "import numpy as np"
   ]
  },
  {
   "cell_type": "code",
   "execution_count": 21,
   "id": "e8c45051",
   "metadata": {},
   "outputs": [
    {
     "data": {
      "text/plain": [
       "'TRIG:123441,R:251,G:12,B:201'"
      ]
     },
     "execution_count": 21,
     "metadata": {},
     "output_type": "execute_result"
    }
   ],
   "source": [
    "datastr = \"TRIG:123441,R:251,G:12,B:201\"\n",
    "datastr"
   ]
  },
  {
   "cell_type": "code",
   "execution_count": 8,
   "id": "4e597545",
   "metadata": {},
   "outputs": [
    {
     "data": {
      "text/plain": [
       "['123441', '251', '12', '201']"
      ]
     },
     "execution_count": 8,
     "metadata": {},
     "output_type": "execute_result"
    }
   ],
   "source": [
    "[elem.split(\":\")[1] for elem in datastr.split(',')]"
   ]
  },
  {
   "cell_type": "code",
   "execution_count": 18,
   "id": "c99f1d8a",
   "metadata": {},
   "outputs": [],
   "source": [
    "def camparse(datastr):\n",
    "    \"\"\" Parse the RGB-color data string, which comes in the format 'TRIG:123441,R:251,G:12,B:201' \"\"\"\n",
    "    vals = [elem.split(\":\")[1] for elem in datastr.split(',')]\n",
    "    trig = np.int64(vals[0])\n",
    "    rgb = np.array(np.uint8(vals[1:]))\n",
    "    return trig, rgb"
   ]
  },
  {
   "cell_type": "code",
   "execution_count": 20,
   "id": "edd58d00",
   "metadata": {},
   "outputs": [
    {
     "data": {
      "text/plain": [
       "(array([251,  12, 201], dtype=uint8), 123441)"
      ]
     },
     "execution_count": 20,
     "metadata": {},
     "output_type": "execute_result"
    }
   ],
   "source": [
    "datastr = \"TRIG:123441,R:251,G:12,B:201\"\n",
    "dataparse(datastr)"
   ]
  },
  {
   "cell_type": "code",
   "execution_count": 17,
   "id": "b9a03404",
   "metadata": {},
   "outputs": [],
   "source": [
    "def ledparse(datastr):\n",
    "    \"\"\" Parse the RGB-color data string, which comes in the format 'TRIG:123441,L0:251,L1:12,L2:201,L3:12,L4:156' \"\"\"\n",
    "    vals = [elem.split(\":\")[1] for elem in datastr.split(',')]\n",
    "    trig = np.int64(vals[0])\n",
    "    brigs = np.array(np.uint8(vals[1:]))\n",
    "    return trig, brigs"
   ]
  },
  {
   "cell_type": "code",
   "execution_count": 27,
   "id": "9cd1c10e",
   "metadata": {},
   "outputs": [
    {
     "name": "stdout",
     "output_type": "stream",
     "text": [
      "TRIG, R, G, B, LED0, LED1, LED2, LED3, LED4\n",
      "123441, 251, 12, 201, 251, 12, 201, 12, 156\n",
      "\n"
     ]
    }
   ],
   "source": [
    "trig1, rgb1 = camparse(\"TRIG:123441,R:251,G:12,B:201\")\n",
    "trig2, rgb3 = camparse(\"TRIG:123441,R:251,G:12,B:201\")\n",
    "trig3, brigs = ledparse('TRIG:123441,L0:251,L1:12,L2:201,L3:12,L4:156')\n",
    "mystr = \"TRIG, R, G, B, LED0, LED1, LED2, LED3, LED4\\n\"\n",
    "if trig1 == trig3 and trig2 == trig3:\n",
    "    mystr += \"{}, {}, {}, {}, {}, {}, {}, {}, {}\\n\".format(trig1, rgb1[0], rgb1[1], rgb1[2], brigs[0], brigs[1], brigs[2], brigs[3], brigs[4])\n",
    "else:\n",
    "    print(\"Trigs don't match.\")\n",
    "    \n",
    "print(mystr)"
   ]
  },
  {
   "cell_type": "code",
   "execution_count": null,
   "id": "7ad13009",
   "metadata": {},
   "outputs": [],
   "source": []
  }
 ],
 "metadata": {
  "kernelspec": {
   "display_name": "Python 3",
   "language": "python",
   "name": "python3"
  },
  "language_info": {
   "codemirror_mode": {
    "name": "ipython",
    "version": 3
   },
   "file_extension": ".py",
   "mimetype": "text/x-python",
   "name": "python",
   "nbconvert_exporter": "python",
   "pygments_lexer": "ipython3",
   "version": "3.9.6"
  }
 },
 "nbformat": 4,
 "nbformat_minor": 5
}
