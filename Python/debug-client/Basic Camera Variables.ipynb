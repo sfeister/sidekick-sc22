{
 "cells": [
  {
   "cell_type": "markdown",
   "id": "ee48aa53",
   "metadata": {},
   "source": [
    "# Testing Basic Camera Variables"
   ]
  },
  {
   "cell_type": "markdown",
   "id": "a512063f",
   "metadata": {},
   "source": [
    "## Import Modules"
   ]
  },
  {
   "cell_type": "code",
   "execution_count": 1,
   "id": "d3343535",
   "metadata": {},
   "outputs": [],
   "source": [
    "import numpy as np\n",
    "import epics # 'epics' is part of pyepics\n",
    "from epics import PV\n",
    "from time import sleep\n",
    "import matplotlib.pyplot as plt"
   ]
  },
  {
   "cell_type": "code",
   "execution_count": 13,
   "id": "221e4538",
   "metadata": {},
   "outputs": [
    {
     "name": "stdout",
     "output_type": "stream",
     "text": [
      "DolphinDAQ,PiCamera2,#00,20221112-5AM\n",
      "0\n",
      "310\n"
     ]
    }
   ],
   "source": [
    "print(epics.caget(\"CAM:INFO\"))\n",
    "print(epics.caget(\"CAM:ENABLE\"))\n",
    "print(epics.caget(\"CAM:ROI1:X\"))"
   ]
  },
  {
   "cell_type": "code",
   "execution_count": 22,
   "id": "d6ad09b1",
   "metadata": {
    "scrolled": true
   },
   "outputs": [
    {
     "name": "stdout",
     "output_type": "stream",
     "text": [
      "900\n",
      "900\n"
     ]
    }
   ],
   "source": [
    "epics.caput(\"CAM:ROI1:X\", 900)\n",
    "epics.caput(\"CAM:ROI1:Y\", 900)\n",
    "print(epics.caget(\"CAM:ROI1:X\"))\n",
    "print(epics.caget(\"CAM:ROI1:Y\"))"
   ]
  },
  {
   "cell_type": "code",
   "execution_count": 26,
   "id": "baf344ec",
   "metadata": {},
   "outputs": [
    {
     "name": "stdout",
     "output_type": "stream",
     "text": [
      "TRIG:1828414,R:99,G:99,B:99\n",
      "TRIG:1828414,R:35,G:33,B:32\n"
     ]
    }
   ],
   "source": [
    "print(epics.caget(\"CAM:ROI1:DATA\"))\n",
    "print(epics.caget(\"CAM:ROI2:DATA\"))"
   ]
  },
  {
   "cell_type": "code",
   "execution_count": 28,
   "id": "c51c0cc6",
   "metadata": {},
   "outputs": [
    {
     "data": {
      "text/plain": [
       "1"
      ]
     },
     "execution_count": 28,
     "metadata": {},
     "output_type": "execute_result"
    }
   ],
   "source": [
    "epics.caput(\"CAM:DEBUG:ENABLE\", 0)"
   ]
  },
  {
   "cell_type": "code",
   "execution_count": null,
   "id": "7e0101ec",
   "metadata": {},
   "outputs": [],
   "source": []
  }
 ],
 "metadata": {
  "kernelspec": {
   "display_name": "Python 3",
   "language": "python",
   "name": "python3"
  },
  "language_info": {
   "codemirror_mode": {
    "name": "ipython",
    "version": 3
   },
   "file_extension": ".py",
   "mimetype": "text/x-python",
   "name": "python",
   "nbconvert_exporter": "python",
   "pygments_lexer": "ipython3",
   "version": "3.9.6"
  }
 },
 "nbformat": 4,
 "nbformat_minor": 5
}
