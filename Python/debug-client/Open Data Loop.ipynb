{
 "cells": [
  {
   "cell_type": "markdown",
   "id": "eb2545fb",
   "metadata": {},
   "source": [
    "# Open Data Loop\n",
    "\n",
    "Captures, in an open loop, camera data.\n",
    "\n",
    "Modeled off of: https://sfeister.github.io/sidekick-epics-docs/demos/OpenLoopHRR/"
   ]
  },
  {
   "cell_type": "markdown",
   "id": "a512063f",
   "metadata": {},
   "source": [
    "## Import Modules"
   ]
  },
  {
   "cell_type": "code",
   "execution_count": 3,
   "id": "d3343535",
   "metadata": {},
   "outputs": [],
   "source": [
    "import numpy as np\n",
    "import epics # 'epics' is part of pyepics\n",
    "from epics import PV\n",
    "from time import sleep\n",
    "import matplotlib.pyplot as plt"
   ]
  },
  {
   "cell_type": "code",
   "execution_count": 4,
   "id": "ebabe568",
   "metadata": {},
   "outputs": [],
   "source": [
    "pvroi1 = PV(\"CAM:ROI1:DATA.VAL\", form=\"time\")\n",
    "pvroi2 = PV(\"CAM:ROI2:DATA.VAL\", form=\"time\")"
   ]
  },
  {
   "cell_type": "code",
   "execution_count": 13,
   "id": "bad5a899",
   "metadata": {},
   "outputs": [
    {
     "name": "stdout",
     "output_type": "stream",
     "text": [
      "ROI1: TRIG:1828710,R:50,G:46,B:46\n",
      "ROI2: TRIG:1828710,R:78,G:81,B:87\n",
      "ROI1: TRIG:1828711,R:50,G:46,B:46\n",
      "ROI2: TRIG:1828711,R:78,G:81,B:87\n",
      "ROI1: TRIG:1828712,R:50,G:46,B:46\n",
      "ROI2: TRIG:1828712,R:77,G:81,B:86\n",
      "ROI1: TRIG:1828713,R:49,G:46,B:45\n",
      "ROI2: TRIG:1828713,R:76,G:80,B:85\n",
      "ROI1: TRIG:1828714,R:49,G:45,B:45\n",
      "ROI2: TRIG:1828714,R:76,G:80,B:84\n",
      "ROI1: TRIG:1828715,R:48,G:45,B:44\n",
      "ROI2: TRIG:1828715,R:75,G:79,B:83\n",
      "ROI1: TRIG:1828716,R:48,G:44,B:44\n",
      "ROI2: TRIG:1828716,R:75,G:79,B:84\n",
      "ROI1: TRIG:1828717,R:48,G:44,B:44\n",
      "ROI2: TRIG:1828717,R:75,G:79,B:84\n",
      "ROI1: TRIG:1828718,R:49,G:44,B:44\n",
      "ROI2: TRIG:1828718,R:76,G:80,B:85\n",
      "ROI1: TRIG:1828719,R:49,G:45,B:45\n",
      "ROI2: TRIG:1828719,R:77,G:81,B:85\n"
     ]
    }
   ],
   "source": [
    "def dataCallback(pvname=None, value=None, **kw):\n",
    "    global isfresh\n",
    "    isfresh = True\n",
    "\n",
    "pvroi1.add_callback(dataCallback)\n",
    "\n",
    "NSTEPS = 10\n",
    "for i in range(NSTEPS):\n",
    "    isfresh = False\n",
    "    while not isfresh:\n",
    "        sleep(0.2)\n",
    "    print('ROI1: ' + pvroi1.value)\n",
    "    print('ROI2: ' + pvroi2.value)\n",
    "\n",
    "pvroi1.clear_callbacks()"
   ]
  },
  {
   "cell_type": "code",
   "execution_count": 8,
   "id": "8e65471d",
   "metadata": {},
   "outputs": [
    {
     "name": "stdout",
     "output_type": "stream",
     "text": [
      "TRIG:1828455,R:55,G:50,B:48\n"
     ]
    }
   ],
   "source": [
    "print(pvroi1.value)"
   ]
  },
  {
   "cell_type": "code",
   "execution_count": 9,
   "id": "b77fb95c",
   "metadata": {},
   "outputs": [],
   "source": [
    "pvroi1.clear_callbacks()"
   ]
  },
  {
   "cell_type": "code",
   "execution_count": 11,
   "id": "4a085804",
   "metadata": {},
   "outputs": [
    {
     "name": "stdout",
     "output_type": "stream",
     "text": [
      "New Photodetector Data!\n",
      "TRIG:1828566,R:54,G:49,B:48\n",
      "New Photodetector Data!\n",
      "TRIG:1828567,R:54,G:49,B:48\n",
      "New Photodetector Data!\n",
      "TRIG:1828568,R:54,G:49,B:48\n",
      "New Photodetector Data!\n",
      "TRIG:1828569,R:55,G:49,B:48\n",
      "New Photodetector Data!\n",
      "TRIG:1828570,R:55,G:49,B:47\n",
      "New Photodetector Data!\n",
      "TRIG:1828571,R:55,G:49,B:48\n",
      "New Photodetector Data!\n",
      "TRIG:1828572,R:109,G:114,B:107\n",
      "New Photodetector Data!\n",
      "TRIG:1828573,R:24,G:25,B:23\n",
      "New Photodetector Data!\n",
      "TRIG:1828574,R:27,G:27,B:26\n"
     ]
    }
   ],
   "source": [
    "def testCallback(pvname=None, value=None, **kw):\n",
    "    print('New PVROI Data!')\n",
    "    print(value)\n",
    "\n",
    "pvroi1.add_callback(testCallback)\n",
    "sleep(10)\n",
    "pvroi1.clear_callbacks()"
   ]
  },
  {
   "cell_type": "code",
   "execution_count": null,
   "id": "896eda96",
   "metadata": {},
   "outputs": [],
   "source": []
  }
 ],
 "metadata": {
  "kernelspec": {
   "display_name": "Python 3",
   "language": "python",
   "name": "python3"
  },
  "language_info": {
   "codemirror_mode": {
    "name": "ipython",
    "version": 3
   },
   "file_extension": ".py",
   "mimetype": "text/x-python",
   "name": "python",
   "nbconvert_exporter": "python",
   "pygments_lexer": "ipython3",
   "version": "3.9.6"
  }
 },
 "nbformat": 4,
 "nbformat_minor": 5
}
